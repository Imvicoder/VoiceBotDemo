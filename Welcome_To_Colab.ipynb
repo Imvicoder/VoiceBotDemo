{
  "cells": [
    {
      "cell_type": "markdown",
      "metadata": {
        "id": "view-in-github",
        "colab_type": "text"
      },
      "source": [
        "<a href=\"https://colab.research.google.com/github/Imvicoder/VoiceBotDemo/blob/main/Welcome_To_Colab.ipynb\" target=\"_parent\"><img src=\"https://colab.research.google.com/assets/colab-badge.svg\" alt=\"Open In Colab\"/></a>"
      ]
    },
    {
      "cell_type": "code",
      "source": [
        "!pip install -U -q openai-whisper\n",
        "# !pip install -q gradio\n",
        "# !apt install ffmpeg\n",
        "# !pip install TTS\n",
        "# !pip install -q -U google-generativeai\n",
        "!!pip install ffmpeg-python\n",
        "!pip install langchain-google-genai # Installs the necessary package for using Google Gemini with LangChain.\n",
        "!pip install gtts\n",
        "!pip install pydub"
      ],
      "metadata": {
        "colab": {
          "base_uri": "https://localhost:8080/"
        },
        "id": "NzYpDmmbBmtr",
        "outputId": "4378fdd4-0865-4d05-f181-185ac796fc80"
      },
      "execution_count": 1,
      "outputs": [
        {
          "output_type": "stream",
          "name": "stdout",
          "text": [
            "Requirement already satisfied: langchain-google-genai in /usr/local/lib/python3.10/dist-packages (2.0.8)\n",
            "Requirement already satisfied: filetype<2.0.0,>=1.2.0 in /usr/local/lib/python3.10/dist-packages (from langchain-google-genai) (1.2.0)\n",
            "Requirement already satisfied: google-generativeai<0.9.0,>=0.8.0 in /usr/local/lib/python3.10/dist-packages (from langchain-google-genai) (0.8.3)\n",
            "Requirement already satisfied: langchain-core<0.4.0,>=0.3.27 in /usr/local/lib/python3.10/dist-packages (from langchain-google-genai) (0.3.29)\n",
            "Requirement already satisfied: pydantic<3,>=2 in /usr/local/lib/python3.10/dist-packages (from langchain-google-genai) (2.10.3)\n",
            "Requirement already satisfied: google-ai-generativelanguage==0.6.10 in /usr/local/lib/python3.10/dist-packages (from google-generativeai<0.9.0,>=0.8.0->langchain-google-genai) (0.6.10)\n",
            "Requirement already satisfied: google-api-core in /usr/local/lib/python3.10/dist-packages (from google-generativeai<0.9.0,>=0.8.0->langchain-google-genai) (2.19.2)\n",
            "Requirement already satisfied: google-api-python-client in /usr/local/lib/python3.10/dist-packages (from google-generativeai<0.9.0,>=0.8.0->langchain-google-genai) (2.155.0)\n",
            "Requirement already satisfied: google-auth>=2.15.0 in /usr/local/lib/python3.10/dist-packages (from google-generativeai<0.9.0,>=0.8.0->langchain-google-genai) (2.27.0)\n",
            "Requirement already satisfied: protobuf in /usr/local/lib/python3.10/dist-packages (from google-generativeai<0.9.0,>=0.8.0->langchain-google-genai) (4.25.5)\n",
            "Requirement already satisfied: tqdm in /usr/local/lib/python3.10/dist-packages (from google-generativeai<0.9.0,>=0.8.0->langchain-google-genai) (4.67.1)\n",
            "Requirement already satisfied: typing-extensions in /usr/local/lib/python3.10/dist-packages (from google-generativeai<0.9.0,>=0.8.0->langchain-google-genai) (4.12.2)\n",
            "Requirement already satisfied: proto-plus<2.0.0dev,>=1.22.3 in /usr/local/lib/python3.10/dist-packages (from google-ai-generativelanguage==0.6.10->google-generativeai<0.9.0,>=0.8.0->langchain-google-genai) (1.25.0)\n",
            "Requirement already satisfied: PyYAML>=5.3 in /usr/local/lib/python3.10/dist-packages (from langchain-core<0.4.0,>=0.3.27->langchain-google-genai) (6.0.2)\n",
            "Requirement already satisfied: jsonpatch<2.0,>=1.33 in /usr/local/lib/python3.10/dist-packages (from langchain-core<0.4.0,>=0.3.27->langchain-google-genai) (1.33)\n",
            "Requirement already satisfied: langsmith<0.3,>=0.1.125 in /usr/local/lib/python3.10/dist-packages (from langchain-core<0.4.0,>=0.3.27->langchain-google-genai) (0.2.3)\n",
            "Requirement already satisfied: packaging<25,>=23.2 in /usr/local/lib/python3.10/dist-packages (from langchain-core<0.4.0,>=0.3.27->langchain-google-genai) (24.2)\n",
            "Requirement already satisfied: tenacity!=8.4.0,<10.0.0,>=8.1.0 in /usr/local/lib/python3.10/dist-packages (from langchain-core<0.4.0,>=0.3.27->langchain-google-genai) (9.0.0)\n",
            "Requirement already satisfied: annotated-types>=0.6.0 in /usr/local/lib/python3.10/dist-packages (from pydantic<3,>=2->langchain-google-genai) (0.7.0)\n",
            "Requirement already satisfied: pydantic-core==2.27.1 in /usr/local/lib/python3.10/dist-packages (from pydantic<3,>=2->langchain-google-genai) (2.27.1)\n",
            "Requirement already satisfied: googleapis-common-protos<2.0.dev0,>=1.56.2 in /usr/local/lib/python3.10/dist-packages (from google-api-core->google-generativeai<0.9.0,>=0.8.0->langchain-google-genai) (1.66.0)\n",
            "Requirement already satisfied: requests<3.0.0.dev0,>=2.18.0 in /usr/local/lib/python3.10/dist-packages (from google-api-core->google-generativeai<0.9.0,>=0.8.0->langchain-google-genai) (2.32.3)\n",
            "Requirement already satisfied: cachetools<6.0,>=2.0.0 in /usr/local/lib/python3.10/dist-packages (from google-auth>=2.15.0->google-generativeai<0.9.0,>=0.8.0->langchain-google-genai) (5.5.0)\n",
            "Requirement already satisfied: pyasn1-modules>=0.2.1 in /usr/local/lib/python3.10/dist-packages (from google-auth>=2.15.0->google-generativeai<0.9.0,>=0.8.0->langchain-google-genai) (0.4.1)\n",
            "Requirement already satisfied: rsa<5,>=3.1.4 in /usr/local/lib/python3.10/dist-packages (from google-auth>=2.15.0->google-generativeai<0.9.0,>=0.8.0->langchain-google-genai) (4.9)\n",
            "Requirement already satisfied: jsonpointer>=1.9 in /usr/local/lib/python3.10/dist-packages (from jsonpatch<2.0,>=1.33->langchain-core<0.4.0,>=0.3.27->langchain-google-genai) (3.0.0)\n",
            "Requirement already satisfied: httpx<1,>=0.23.0 in /usr/local/lib/python3.10/dist-packages (from langsmith<0.3,>=0.1.125->langchain-core<0.4.0,>=0.3.27->langchain-google-genai) (0.28.1)\n",
            "Requirement already satisfied: orjson<4.0.0,>=3.9.14 in /usr/local/lib/python3.10/dist-packages (from langsmith<0.3,>=0.1.125->langchain-core<0.4.0,>=0.3.27->langchain-google-genai) (3.10.12)\n",
            "Requirement already satisfied: requests-toolbelt<2.0.0,>=1.0.0 in /usr/local/lib/python3.10/dist-packages (from langsmith<0.3,>=0.1.125->langchain-core<0.4.0,>=0.3.27->langchain-google-genai) (1.0.0)\n",
            "Requirement already satisfied: httplib2<1.dev0,>=0.19.0 in /usr/local/lib/python3.10/dist-packages (from google-api-python-client->google-generativeai<0.9.0,>=0.8.0->langchain-google-genai) (0.22.0)\n",
            "Requirement already satisfied: google-auth-httplib2<1.0.0,>=0.2.0 in /usr/local/lib/python3.10/dist-packages (from google-api-python-client->google-generativeai<0.9.0,>=0.8.0->langchain-google-genai) (0.2.0)\n",
            "Requirement already satisfied: uritemplate<5,>=3.0.1 in /usr/local/lib/python3.10/dist-packages (from google-api-python-client->google-generativeai<0.9.0,>=0.8.0->langchain-google-genai) (4.1.1)\n",
            "Requirement already satisfied: grpcio<2.0dev,>=1.33.2 in /usr/local/lib/python3.10/dist-packages (from google-api-core[grpc]!=2.0.*,!=2.1.*,!=2.10.*,!=2.2.*,!=2.3.*,!=2.4.*,!=2.5.*,!=2.6.*,!=2.7.*,!=2.8.*,!=2.9.*,<3.0.0dev,>=1.34.1->google-ai-generativelanguage==0.6.10->google-generativeai<0.9.0,>=0.8.0->langchain-google-genai) (1.68.1)\n",
            "Requirement already satisfied: grpcio-status<2.0.dev0,>=1.33.2 in /usr/local/lib/python3.10/dist-packages (from google-api-core[grpc]!=2.0.*,!=2.1.*,!=2.10.*,!=2.2.*,!=2.3.*,!=2.4.*,!=2.5.*,!=2.6.*,!=2.7.*,!=2.8.*,!=2.9.*,<3.0.0dev,>=1.34.1->google-ai-generativelanguage==0.6.10->google-generativeai<0.9.0,>=0.8.0->langchain-google-genai) (1.62.3)\n",
            "Requirement already satisfied: pyparsing!=3.0.0,!=3.0.1,!=3.0.2,!=3.0.3,<4,>=2.4.2 in /usr/local/lib/python3.10/dist-packages (from httplib2<1.dev0,>=0.19.0->google-api-python-client->google-generativeai<0.9.0,>=0.8.0->langchain-google-genai) (3.2.0)\n",
            "Requirement already satisfied: anyio in /usr/local/lib/python3.10/dist-packages (from httpx<1,>=0.23.0->langsmith<0.3,>=0.1.125->langchain-core<0.4.0,>=0.3.27->langchain-google-genai) (3.7.1)\n",
            "Requirement already satisfied: certifi in /usr/local/lib/python3.10/dist-packages (from httpx<1,>=0.23.0->langsmith<0.3,>=0.1.125->langchain-core<0.4.0,>=0.3.27->langchain-google-genai) (2024.12.14)\n",
            "Requirement already satisfied: httpcore==1.* in /usr/local/lib/python3.10/dist-packages (from httpx<1,>=0.23.0->langsmith<0.3,>=0.1.125->langchain-core<0.4.0,>=0.3.27->langchain-google-genai) (1.0.7)\n",
            "Requirement already satisfied: idna in /usr/local/lib/python3.10/dist-packages (from httpx<1,>=0.23.0->langsmith<0.3,>=0.1.125->langchain-core<0.4.0,>=0.3.27->langchain-google-genai) (3.10)\n",
            "Requirement already satisfied: h11<0.15,>=0.13 in /usr/local/lib/python3.10/dist-packages (from httpcore==1.*->httpx<1,>=0.23.0->langsmith<0.3,>=0.1.125->langchain-core<0.4.0,>=0.3.27->langchain-google-genai) (0.14.0)\n",
            "Requirement already satisfied: pyasn1<0.7.0,>=0.4.6 in /usr/local/lib/python3.10/dist-packages (from pyasn1-modules>=0.2.1->google-auth>=2.15.0->google-generativeai<0.9.0,>=0.8.0->langchain-google-genai) (0.6.1)\n",
            "Requirement already satisfied: charset-normalizer<4,>=2 in /usr/local/lib/python3.10/dist-packages (from requests<3.0.0.dev0,>=2.18.0->google-api-core->google-generativeai<0.9.0,>=0.8.0->langchain-google-genai) (3.4.0)\n",
            "Requirement already satisfied: urllib3<3,>=1.21.1 in /usr/local/lib/python3.10/dist-packages (from requests<3.0.0.dev0,>=2.18.0->google-api-core->google-generativeai<0.9.0,>=0.8.0->langchain-google-genai) (2.2.3)\n",
            "Requirement already satisfied: sniffio>=1.1 in /usr/local/lib/python3.10/dist-packages (from anyio->httpx<1,>=0.23.0->langsmith<0.3,>=0.1.125->langchain-core<0.4.0,>=0.3.27->langchain-google-genai) (1.3.1)\n",
            "Requirement already satisfied: exceptiongroup in /usr/local/lib/python3.10/dist-packages (from anyio->httpx<1,>=0.23.0->langsmith<0.3,>=0.1.125->langchain-core<0.4.0,>=0.3.27->langchain-google-genai) (1.2.2)\n",
            "Requirement already satisfied: gtts in /usr/local/lib/python3.10/dist-packages (2.5.4)\n",
            "Requirement already satisfied: requests<3,>=2.27 in /usr/local/lib/python3.10/dist-packages (from gtts) (2.32.3)\n",
            "Requirement already satisfied: click<8.2,>=7.1 in /usr/local/lib/python3.10/dist-packages (from gtts) (8.1.7)\n",
            "Requirement already satisfied: charset-normalizer<4,>=2 in /usr/local/lib/python3.10/dist-packages (from requests<3,>=2.27->gtts) (3.4.0)\n",
            "Requirement already satisfied: idna<4,>=2.5 in /usr/local/lib/python3.10/dist-packages (from requests<3,>=2.27->gtts) (3.10)\n",
            "Requirement already satisfied: urllib3<3,>=1.21.1 in /usr/local/lib/python3.10/dist-packages (from requests<3,>=2.27->gtts) (2.2.3)\n",
            "Requirement already satisfied: certifi>=2017.4.17 in /usr/local/lib/python3.10/dist-packages (from requests<3,>=2.27->gtts) (2024.12.14)\n",
            "Requirement already satisfied: pydub in /usr/local/lib/python3.10/dist-packages (0.25.1)\n"
          ]
        }
      ]
    },
    {
      "cell_type": "code",
      "source": [
        "import numpy as np\n",
        "import whisper\n",
        "from IPython.display import display, HTML\n",
        "from google.colab.output import eval_js\n",
        "from base64 import b64decode\n",
        "from scipy.io.wavfile import read as wav_read\n",
        "import io\n",
        "import ffmpeg\n",
        "from scipy.io.wavfile import write\n",
        "\n",
        "from gtts import gTTS\n",
        "from IPython.display import Audio\n",
        "from pydub import AudioSegment\n",
        "from pydub.playback import play\n",
        "from threading import Thread\n",
        "from time import sleep"
      ],
      "metadata": {
        "id": "EiVOOmMAdkHZ"
      },
      "execution_count": 2,
      "outputs": []
    },
    {
      "cell_type": "code",
      "source": [
        "import torch\n",
        "# Check if GPU is available\n",
        "if torch.cuda.is_available():\n",
        "    device = torch.device(\"cuda\")\n",
        "    print(\"GPU is available\")\n",
        "else:\n",
        "    device = torch.device(\"cpu\")\n",
        "    print(\"GPU is not available, using CPU\")\n",
        "\n",
        "\n",
        "# Load model and move to GPU if available\n",
        "model = whisper.load_model(\"medium\").to(device)"
      ],
      "metadata": {
        "colab": {
          "base_uri": "https://localhost:8080/"
        },
        "id": "WwWJJegdduVA",
        "outputId": "149d93db-e80e-4bd1-d407-fb65100087be"
      },
      "execution_count": 3,
      "outputs": [
        {
          "output_type": "stream",
          "name": "stdout",
          "text": [
            "GPU is not available, using CPU\n"
          ]
        },
        {
          "output_type": "stream",
          "name": "stderr",
          "text": [
            "100%|█████████████████████████████████████| 1.42G/1.42G [00:28<00:00, 54.3MiB/s]\n",
            "/usr/local/lib/python3.10/dist-packages/whisper/__init__.py:150: FutureWarning: You are using `torch.load` with `weights_only=False` (the current default value), which uses the default pickle module implicitly. It is possible to construct malicious pickle data which will execute arbitrary code during unpickling (See https://github.com/pytorch/pytorch/blob/main/SECURITY.md#untrusted-models for more details). In a future release, the default value for `weights_only` will be flipped to `True`. This limits the functions that could be executed during unpickling. Arbitrary objects will no longer be allowed to be loaded via this mode unless they are explicitly allowlisted by the user via `torch.serialization.add_safe_globals`. We recommend you start setting `weights_only=True` for any use case where you don't have full control of the loaded file. Please open an issue on GitHub for any issues related to this experimental feature.\n",
            "  checkpoint = torch.load(fp, map_location=device)\n"
          ]
        }
      ]
    },
    {
      "cell_type": "code",
      "source": [
        "AUDIO_HTML = \"\"\"\n",
        "<script>\n",
        "var my_div = document.createElement(\"DIV\");\n",
        "var my_p = document.createElement(\"P\");\n",
        "var my_btn = document.createElement(\"BUTTON\");\n",
        "var t = document.createTextNode(\"\");\n",
        "\n",
        "my_btn.appendChild(t);\n",
        "//my_p.appendChild(my_btn);\n",
        "my_div.appendChild(my_btn);\n",
        "document.body.appendChild(my_div);\n",
        "\n",
        "var base64data = 0;\n",
        "var reader;\n",
        "var recorder, gumStream;\n",
        "var recordButton = my_btn;\n",
        "\n",
        "var handleSuccess = function(stream) {\n",
        "  gumStream = stream;\n",
        "  var options = {\n",
        "    //bitsPerSecond: 8000, //chrome seems to ignore, always 48k\n",
        "    mimeType : 'audio/webm;codecs=opus'\n",
        "    //mimeType : 'audio/webm;codecs=pcm'\n",
        "  };\n",
        "  //recorder = new MediaRecorder(stream, options);\n",
        "  recorder = new MediaRecorder(stream);\n",
        "  recorder.ondataavailable = function(e) {\n",
        "    var url = URL.createObjectURL(e.data);\n",
        "    //var preview = document.createElement('audio');  # this is used to play the recorded audio\n",
        "    //preview.controls = true;\n",
        "    //preview.src = url;\n",
        "    //document.body.appendChild(preview);\n",
        "\n",
        "    reader = new FileReader();\n",
        "    reader.readAsDataURL(e.data);\n",
        "    reader.onloadend = function() {\n",
        "      base64data = reader.result;\n",
        "      //console.log(\"Inside FileReader:\" + base64data);\n",
        "    }\n",
        "  };\n",
        "  recorder.start();\n",
        "  };\n",
        "\n",
        "recordButton.innerText = \"Recording... press to stop\";\n",
        "\n",
        "navigator.mediaDevices.getUserMedia({audio: true}).then(handleSuccess);\n",
        "\n",
        "\n",
        "function toggleRecording() {\n",
        "  if (recorder && recorder.state == \"recording\") {\n",
        "      recorder.stop();\n",
        "      gumStream.getAudioTracks()[0].stop();\n",
        "      recordButton.innerText = \"\"\n",
        "  }\n",
        "}\n",
        "\n",
        "// https://stackoverflow.com/a/951057\n",
        "function sleep(ms) {\n",
        "  return new Promise(resolve => setTimeout(resolve, ms));\n",
        "}\n",
        "\n",
        "var data = new Promise(resolve=>{\n",
        "//recordButton.addEventListener(\"click\", toggleRecording);\n",
        "recordButton.onclick = ()=>{\n",
        "toggleRecording()\n",
        "\n",
        "sleep(2000).then(() => {\n",
        "  // wait 2000ms for the data to be available...\n",
        "  // ideally this should use something like await...\n",
        "  //console.log(\"Inside data:\" + base64data)\n",
        "  resolve(base64data.toString())\n",
        "\n",
        "});\n",
        "\n",
        "}\n",
        "});\n",
        "\n",
        "</script>\n",
        "\"\"\"\n"
      ],
      "metadata": {
        "id": "cSe0zFj3d1rw"
      },
      "execution_count": 19,
      "outputs": []
    },
    {
      "cell_type": "code",
      "source": [
        "def get_audio():\n",
        "  display(HTML(AUDIO_HTML))\n",
        "  data = eval_js(\"data\")\n",
        "  binary = b64decode(data.split(',')[1])\n",
        "\n",
        "  process = (ffmpeg\n",
        "    .input('pipe:0')\n",
        "    .output('pipe:1', format='wav')\n",
        "    .run_async(pipe_stdin=True, pipe_stdout=True, pipe_stderr=True, quiet=True, overwrite_output=True)\n",
        "  )\n",
        "  output, err = process.communicate(input=binary)\n",
        "\n",
        "  riff_chunk_size = len(output) - 8\n",
        "  # Break up the chunk size into four bytes, held in b.\n",
        "  q = riff_chunk_size\n",
        "  b = []\n",
        "  for i in range(4):\n",
        "      q, r = divmod(q, 256)\n",
        "      b.append(r)\n",
        "\n",
        "  # Replace bytes 4:8 in proc.stdout with the actual size of the RIFF chunk.\n",
        "  riff = output[:4] + bytes(b) + output[8:]\n",
        "\n",
        "  sr, audio = wav_read(io.BytesIO(riff))\n",
        "\n",
        "  return audio, sr"
      ],
      "metadata": {
        "id": "Hz3WzB8fo3S2"
      },
      "execution_count": 20,
      "outputs": []
    },
    {
      "cell_type": "code",
      "source": [
        "# # Function to save numpy array as WAV file\n",
        "# def save_audio_as_wav(audio_np, sample_rate, filename=\"recorded_audio.wav\"):\n",
        "#     write(filename, sample_rate, audio_np)"
      ],
      "metadata": {
        "id": "AvN1_3T5fNyL"
      },
      "execution_count": 5,
      "outputs": []
    },
    {
      "cell_type": "code",
      "source": [
        "# Function to transcribe audio using Whisper\n",
        "def transcribe_audio():\n",
        "    audio_np, sample_rate = get_audio()\n",
        "    filename = \"recorded_audio.wav\"\n",
        "    write(filename, sample_rate, audio_np)\n",
        "    # save_audio_as_wav(audio, sr)\n",
        "    result = model.transcribe(filename)\n",
        "    return result['text']"
      ],
      "metadata": {
        "id": "xn1_ToRYfc_m"
      },
      "execution_count": 6,
      "outputs": []
    },
    {
      "cell_type": "code",
      "source": [],
      "metadata": {
        "id": "a0A_eNSPfjep"
      },
      "execution_count": null,
      "outputs": []
    },
    {
      "cell_type": "code",
      "source": [
        "class InvisibleAudio(Audio):\n",
        "\n",
        "    def _repr_html_(self):\n",
        "        audio = super()._repr_html_()\n",
        "        audio = audio.replace(\n",
        "            '<audio',\n",
        "            (\n",
        "                '<audio onended=\"'\n",
        "                + hide_closest(css_class=OUTPUT_AREA_CLASS)\n",
        "                + '\" onloadstart=\"' + hide_closest(css_class=OUTPUT_AREA_CLASS) + '\"'\n",
        "            )\n",
        "        )\n",
        "        return f'<div style=\"display:none\">{audio}</div>'\n",
        "\n",
        "OUTPUT_AREA_CLASS = 'jp-OutputArea-child'\n",
        "OUT_CLASS = 'jp-transient-html'"
      ],
      "metadata": {
        "id": "BK48jusLpDS8"
      },
      "execution_count": 21,
      "outputs": []
    },
    {
      "cell_type": "code",
      "source": [
        "def try_to_hide_parent(css_class, level):\n",
        "    \"\"\"deprecated\"\"\"\n",
        "    return (\n",
        "        f'var parent = this{\".parentNode\" * level};'\n",
        "        f'if(parent.className == \\'{css_class}\\') parent.style.display = \\'none\\';'\n",
        "    )\n"
      ],
      "metadata": {
        "id": "m4HAw14npKmI"
      },
      "execution_count": 22,
      "outputs": []
    },
    {
      "cell_type": "code",
      "source": [
        "\n",
        "def hide_closest(css_class):\n",
        "    return (\n",
        "        f\"var widget_our = this.closest('.{OUT_CLASS}');\"\n",
        "        f\"var that = widget_our ? widget_our : this;\"\n",
        "        f\"that.closest('.{css_class}').style.display = 'none';\"\n",
        "    )\n"
      ],
      "metadata": {
        "id": "_jgofdJKpNOi"
      },
      "execution_count": 23,
      "outputs": []
    },
    {
      "cell_type": "code",
      "source": [
        "def delete_closest(css_class):\n",
        "    return (\n",
        "        f\"var widget_our = this.closest('.{OUT_CLASS}');\"\n",
        "        f\"var that = widget_our ? widget_our : this;\"\n",
        "        f\"var el = that.closest('.{css_class}'); el.parentNode.removeChild(el);\"\n",
        "    )\n"
      ],
      "metadata": {
        "id": "jYX19FA7pO91"
      },
      "execution_count": 24,
      "outputs": []
    },
    {
      "cell_type": "code",
      "source": [
        "def delete_element(levels_up=1):\n",
        "    return (\n",
        "        'this'\n",
        "        + '.parentNode' * levels_up\n",
        "        + '.removeChild('\n",
        "          + 'this'\n",
        "          + '.parentNode' * (levels_up - 1)\n",
        "        + ')'\n",
        "    )"
      ],
      "metadata": {
        "id": "BNEtoGVjpQtZ"
      },
      "execution_count": 25,
      "outputs": []
    },
    {
      "cell_type": "code",
      "source": [
        "class InvisibleAudio(Audio):\n",
        "\n",
        "    def _repr_html_(self):\n",
        "        audio = super()._repr_html_()\n",
        "        audio = audio.replace(\n",
        "            '<audio',\n",
        "            (\n",
        "                '<audio onended=\"'\n",
        "                + hide_closest(css_class=OUTPUT_AREA_CLASS)\n",
        "                + '\" onloadstart=\"' + hide_closest(css_class=OUTPUT_AREA_CLASS) + '\"'\n",
        "            )\n",
        "        )\n",
        "        return f'<div style=\"display:none\">{audio}</div>'"
      ],
      "metadata": {
        "id": "NJB6q4KbpTPv"
      },
      "execution_count": 26,
      "outputs": []
    },
    {
      "cell_type": "code",
      "source": [
        "def javascript_in_jupyter(code):\n",
        "    return f'<img onerror=\"{code}\" src=\"x\" style=\"display:none\"></div>'\n",
        "\n",
        "\n",
        "def delayed_close(out, element, delay):\n",
        "    sleep(delay)\n",
        "    element.close()\n",
        "    out.clear_output()\n",
        "    out.close()\n"
      ],
      "metadata": {
        "id": "NwWymLWjpVYy"
      },
      "execution_count": 27,
      "outputs": []
    },
    {
      "cell_type": "code",
      "source": [
        "def transient_html(code: str, lifetime: float = 3):\n",
        "    \"\"\"Attempts to display and then hide given HTML code.\n",
        "\n",
        "    If the hiding is not possible (no ipywidgets) fall-backs to persistent display.\n",
        "\n",
        "    Arguments:\n",
        "        code: HTML code as a string\n",
        "        lifetime: time\n",
        "    \"\"\"\n",
        "    try:\n",
        "        from ipywidgets import HTML\n",
        "        from ipywidgets.widgets import Output\n",
        "        element = HTML(code)\n",
        "        out = Output()\n",
        "        out.add_class(OUT_CLASS)\n",
        "\n",
        "        thread = Thread(target=delayed_close, args=(out, element, lifetime))\n",
        "\n",
        "        with out:\n",
        "            display(element)\n",
        "\n",
        "        display(out)\n",
        "\n",
        "        thread.start()\n",
        "\n",
        "    except ImportError:\n",
        "        from IPython.display import HTML\n",
        "        element = HTML(code)\n",
        "        display(element)"
      ],
      "metadata": {
        "id": "LZqKGTNzpXpx"
      },
      "execution_count": 28,
      "outputs": []
    },
    {
      "cell_type": "code",
      "source": [
        "def scroll_to_current_cell(\n",
        "    scroll_behaviour='smooth',\n",
        "    preserve=False,\n",
        "    smart=True,\n",
        "    scroll_to='center',\n",
        "    cell_class='jp-Cell'\n",
        "):\n",
        "    behaviour = f\"behavior: '{scroll_behaviour}', block: '{scroll_to}'\"\n",
        "    code = (\n",
        "        # scroll to the output\n",
        "        '\\n'.join([\n",
        "            f\"let cell = this.closest('.{cell_class}');\",\n",
        "            'let rect = cell.getBoundingClientRect();',\n",
        "            (\n",
        "                (\n",
        "                    'let is_visible = rect.top >= 0 &&'\n",
        "                    ' rect.bottom <= (window.innerHeight || document.documentElement.clientHeight);'\n",
        "                )\n",
        "                if smart else\n",
        "                'let is_visible = false;'\n",
        "            ),\n",
        "            'if (!is_visible) {',\n",
        "            '    cell.scrollIntoView({' + behaviour + '});',\n",
        "            '}'\n",
        "        ])\n",
        "        # hide the output generated as an anchor\n",
        "        + hide_closest(css_class=OUTPUT_AREA_CLASS)\n",
        "    )\n",
        "    code = javascript_in_jupyter(code)\n",
        "\n",
        "    if not preserve:\n",
        "        transient_html(code)\n",
        "\n",
        "    if preserve:\n",
        "        from IPython.display import HTML\n",
        "        element = HTML(code)\n",
        "        display(element)\n"
      ],
      "metadata": {
        "id": "OIHJKR_zgzGS"
      },
      "execution_count": 29,
      "outputs": []
    },
    {
      "cell_type": "code",
      "source": [
        "def play_sound(filename):\n",
        "    audio = InvisibleAudio(filename=filename, autoplay=True)\n",
        "    transient_html(audio._repr_html_())"
      ],
      "metadata": {
        "id": "22DbwJ0Lg3iO"
      },
      "execution_count": 10,
      "outputs": []
    },
    {
      "cell_type": "code",
      "source": [
        "from langchain_google_genai import ChatGoogleGenerativeAI\n",
        "from langchain_core.prompts import ChatPromptTemplate\n",
        "\n",
        "from langchain.prompts import ChatPromptTemplate\n",
        "from langchain_core.output_parsers import StrOutputParser\n",
        "from langchain_core.output_parsers import JsonOutputParser\n",
        "\n",
        "from langchain_core.prompts import ChatPromptTemplate"
      ],
      "metadata": {
        "id": "Bf4K_t_4g9ET"
      },
      "execution_count": 11,
      "outputs": []
    },
    {
      "cell_type": "code",
      "source": [
        "import getpass\n",
        "import os\n",
        "\n",
        "if \"GOOGLE_API_KEY\" not in os.environ:\n",
        "    os.environ[\"GOOGLE_API_KEY\"] = getpass.getpass(\"Enter your Google AI API key: \")"
      ],
      "metadata": {
        "colab": {
          "base_uri": "https://localhost:8080/"
        },
        "id": "8GNb1rnhhCt6",
        "outputId": "f0b5d8e5-18e8-4201-cf8b-0fc1842377d4"
      },
      "execution_count": 12,
      "outputs": [
        {
          "name": "stdout",
          "output_type": "stream",
          "text": [
            "Enter your Google AI API key: ··········\n"
          ]
        }
      ]
    },
    {
      "cell_type": "code",
      "source": [
        "transcription = transcribe_audio()\n",
        "\n",
        "print(\"Transcription:\")\n",
        "print(transcription)"
      ],
      "metadata": {
        "colab": {
          "base_uri": "https://localhost:8080/",
          "height": 124
        },
        "id": "-Qn3jglXi3e9",
        "outputId": "03ac860c-4812-4bdc-a465-fc6c7cc1a1c3"
      },
      "execution_count": 13,
      "outputs": [
        {
          "output_type": "display_data",
          "data": {
            "text/plain": [
              "<IPython.core.display.HTML object>"
            ],
            "text/html": [
              "\n",
              "<script>\n",
              "var my_div = document.createElement(\"DIV\");\n",
              "var my_p = document.createElement(\"P\");\n",
              "var my_btn = document.createElement(\"BUTTON\");\n",
              "var t = document.createTextNode(\"\");\n",
              "\n",
              "my_btn.appendChild(t);\n",
              "//my_p.appendChild(my_btn);\n",
              "my_div.appendChild(my_btn);\n",
              "document.body.appendChild(my_div);\n",
              "\n",
              "var base64data = 0;\n",
              "var reader;\n",
              "var recorder, gumStream;\n",
              "var recordButton = my_btn;\n",
              "\n",
              "var handleSuccess = function(stream) {\n",
              "  gumStream = stream;\n",
              "  var options = {\n",
              "    //bitsPerSecond: 8000, //chrome seems to ignore, always 48k\n",
              "    mimeType : 'audio/webm;codecs=opus'\n",
              "    //mimeType : 'audio/webm;codecs=pcm'\n",
              "  };            \n",
              "  //recorder = new MediaRecorder(stream, options);\n",
              "  recorder = new MediaRecorder(stream);\n",
              "  recorder.ondataavailable = function(e) {            \n",
              "    var url = URL.createObjectURL(e.data);\n",
              "    //var preview = document.createElement('audio');  # this is used to play the recorded audio\n",
              "    //preview.controls = true;\n",
              "    //preview.src = url;\n",
              "    //document.body.appendChild(preview);\n",
              "\n",
              "    reader = new FileReader();\n",
              "    reader.readAsDataURL(e.data); \n",
              "    reader.onloadend = function() {\n",
              "      base64data = reader.result;\n",
              "      //console.log(\"Inside FileReader:\" + base64data);\n",
              "    }\n",
              "  };\n",
              "  recorder.start();\n",
              "  };\n",
              "\n",
              "recordButton.innerText = \"Recording... press to stop\";\n",
              "\n",
              "navigator.mediaDevices.getUserMedia({audio: true}).then(handleSuccess);\n",
              "\n",
              "\n",
              "function toggleRecording() {\n",
              "  if (recorder && recorder.state == \"recording\") {\n",
              "      recorder.stop();\n",
              "      gumStream.getAudioTracks()[0].stop();\n",
              "      recordButton.innerText = \"\"\n",
              "  }\n",
              "}\n",
              "\n",
              "// https://stackoverflow.com/a/951057\n",
              "function sleep(ms) {\n",
              "  return new Promise(resolve => setTimeout(resolve, ms));\n",
              "}\n",
              "\n",
              "var data = new Promise(resolve=>{\n",
              "//recordButton.addEventListener(\"click\", toggleRecording);\n",
              "recordButton.onclick = ()=>{\n",
              "toggleRecording()\n",
              "\n",
              "sleep(2000).then(() => {\n",
              "  // wait 2000ms for the data to be available...\n",
              "  // ideally this should use something like await...\n",
              "  //console.log(\"Inside data:\" + base64data)\n",
              "  resolve(base64data.toString())\n",
              "\n",
              "});\n",
              "\n",
              "}\n",
              "});\n",
              "      \n",
              "</script>\n"
            ]
          },
          "metadata": {}
        },
        {
          "output_type": "stream",
          "name": "stderr",
          "text": [
            "/usr/local/lib/python3.10/dist-packages/whisper/transcribe.py:126: UserWarning: FP16 is not supported on CPU; using FP32 instead\n",
            "  warnings.warn(\"FP16 is not supported on CPU; using FP32 instead\")\n"
          ]
        },
        {
          "output_type": "stream",
          "name": "stdout",
          "text": [
            "Transcription:\n",
            " My name is Vikas, I'm calling from UnitedHealthcare. Can we connect?\n"
          ]
        }
      ]
    },
    {
      "cell_type": "code",
      "source": [
        "def text_to_speech(text):\n",
        "    # Convert text to speech\n",
        "    tts = gTTS(text=text, lang='en', tld='com', slow=False)\n",
        "    tts.save(\"output.wav\")\n",
        "    play_sound(\"output.wav\")\n",
        "\n",
        "# Example usage\n",
        "text_to_speech(\"sure, what is this regarding for ?\")"
      ],
      "metadata": {
        "colab": {
          "base_uri": "https://localhost:8080/",
          "height": 21,
          "referenced_widgets": [
            "2e9b84c393f04c9aa479684d3128d6af",
            "e184c20b8ced4478bf9972cd34a92ed7",
            "fdf49ff8e05a4938ba8baca4c2d38fac",
            "fcb5e338c6ce4628984e26fb86c53ee8",
            "8f3fd6c6f19c4456b3855959fe15c6b6"
          ]
        },
        "id": "cD3xFfG3ENS9",
        "outputId": "d1ff2b6f-c003-43f5-de5e-3fda9e5cf393"
      },
      "execution_count": 14,
      "outputs": [
        {
          "output_type": "display_data",
          "data": {
            "text/plain": [
              "Output(_dom_classes=('jp-transient-html',))"
            ],
            "application/vnd.jupyter.widget-view+json": {
              "version_major": 2,
              "version_minor": 0,
              "model_id": "2e9b84c393f04c9aa479684d3128d6af"
            }
          },
          "metadata": {}
        }
      ]
    },
    {
      "cell_type": "code",
      "source": [
        "def get_llm_output(prompt, text):\n",
        "    parser = StrOutputParser()\n",
        "    llm = ChatGoogleGenerativeAI(model=\"gemini-1.5-pro\", temperature=0)\n",
        "    llm_chain = prompt | llm | parser\n",
        "    out = llm_chain.invoke({\"input\": text})\n",
        "    return out"
      ],
      "metadata": {
        "id": "bddZnZLlbKiQ"
      },
      "execution_count": 15,
      "outputs": []
    },
    {
      "cell_type": "code",
      "source": [
        "extract_name_prompt_msg = f''' As an AI assitant, you are given a sentence, extract the name of the speaker. Strictly return me the name of speaker.\n",
        "                        '''\n",
        "extract_name_prompt = ChatPromptTemplate.from_messages(\n",
        "    [\n",
        "        (\"system\", extract_name_prompt_msg),\n",
        "        (\"human\", \"{input}\"),\n",
        "    ]\n",
        ")\n",
        "extract_dob_msg = f''' As an AI assitant, you are given a sentence, extract the date of birth of the speaker. Strictly return me the date of birth of speaker in mm/dd/yyyy format.\n",
        "                        '''\n",
        "extract_dob_prompt = ChatPromptTemplate.from_messages(\n",
        "    [\n",
        "        (\"system\", extract_dob_msg),\n",
        "        (\"human\", \"{input}\"),\n",
        "    ]\n",
        ")\n",
        "extract_id_msg = f''' As an AI assitant, you are given a sentence, extract the ID of the speaker. Strictly return me the ID of speaker.\n",
        "                        '''\n",
        "extract_id_prompt = ChatPromptTemplate.from_messages(\n",
        "    [\n",
        "        (\"system\", extract_id_msg),\n",
        "        (\"human\", \"{input}\"),\n",
        "    ]\n",
        ")\n",
        "\n",
        "intent_classifier_msg = f''' You are given a text from a user. As an AI assistant, Help me in identifying the intent of the text. Strictly classify the\n",
        "                            text into 4 categories. 1) reschedule 2) schedule 3) cancellation 4) other . Strictly classify the text frobased on these 4 categories and strictly return me 1 of these categories based on the text.\n",
        "                        '''\n",
        "\n",
        "intent_prompt = ChatPromptTemplate.from_messages(\n",
        "    [\n",
        "        (\"system\", intent_classifier_msg),\n",
        "        (\"human\", \"{input}\"),\n",
        "    ]\n",
        ")\n",
        "\n",
        "member_availability_msg = f''' You are given a text from a user. As an AI assistant, Help me in identifying whether member is available on\n",
        "                        '''\n",
        "\n",
        "intent_prompt = ChatPromptTemplate.from_messages(\n",
        "    [\n",
        "        (\"system\", intent_classifier_msg),\n",
        "        (\"human\", \"{input}\"),\n",
        "    ]\n",
        ")\n",
        "def get_intent(text):\n",
        "    intent = get_llm_output(intent_prompt, text)\n",
        "    print(f\"Extracted intent: {intent}\")\n",
        "    return intent\n",
        "\n",
        "def get_name(text):\n",
        "    name = get_llm_output(extract_name_prompt, text)\n",
        "    # print(f\"Extracted name: {name}\")\n",
        "    return name\n",
        "\n",
        "def get_dob(text):\n",
        "    dob = get_llm_output(extract_dob_prompt, text)\n",
        "    # print(f\"Extracted DOB: {dob}\")\n",
        "    return dob\n",
        "\n",
        "def get_id(text):\n",
        "    member_id = get_llm_output(extract_id_prompt, text)\n",
        "    # print(f\"Extracted ID: {member_id}\")\n",
        "    return member_id"
      ],
      "metadata": {
        "id": "H3lj9eLWbxBs"
      },
      "execution_count": 16,
      "outputs": []
    },
    {
      "cell_type": "code",
      "source": [
        "get_name('my name is vikas dixit')"
      ],
      "metadata": {
        "colab": {
          "base_uri": "https://localhost:8080/",
          "height": 35
        },
        "id": "YXkLr62dcIyz",
        "outputId": "78fe422f-93f7-4d7b-fa0a-67e63966533a"
      },
      "execution_count": 17,
      "outputs": [
        {
          "output_type": "execute_result",
          "data": {
            "text/plain": [
              "'vikas dixit'"
            ],
            "application/vnd.google.colaboratory.intrinsic+json": {
              "type": "string"
            }
          },
          "metadata": {},
          "execution_count": 17
        }
      ]
    },
    {
      "cell_type": "code",
      "source": [
        "patient_details_dict = {\n",
        "                        '1hb1':\n",
        "                            {  'name': 'vikas',\n",
        "                                'dob': '08/02/1995',\n",
        "                            },\n",
        "                        '1hb2':\n",
        "                            {   'name': 'sachin',\n",
        "                                'dob': '03/01/1995',\n",
        "                            },\n",
        "                        '1hb3':\n",
        "                            {   'name': 'john',\n",
        "                                'dob': '05/08/1990',\n",
        "                            }\n",
        "                        }\n",
        "\n",
        "available_dates = {\n",
        "                    '1hb1': ['Jan 10, 2025', 'Jan 17, 2025'],\n",
        "                    '1hb2':['Jan 12, 2025', 'Jan 20, 2025'],\n",
        "                    '1hb3': ['Jan 14, 2025', 'Jan 27, 2025']\n",
        "                }\n",
        ""
      ],
      "metadata": {
        "id": "Mq3ClGYWcLm2"
      },
      "execution_count": 18,
      "outputs": []
    },
    {
      "cell_type": "code",
      "source": [],
      "metadata": {
        "id": "udkxBazFdOX1"
      },
      "execution_count": null,
      "outputs": []
    }
  ],
  "metadata": {
    "colab": {
      "name": "Welcome To Colab",
      "toc_visible": true,
      "provenance": [],
      "gpuType": "T4",
      "include_colab_link": true
    },
    "kernelspec": {
      "display_name": "Python 3",
      "name": "python3"
    },
    "accelerator": "GPU",
    "widgets": {
      "application/vnd.jupyter.widget-state+json": {
        "2e9b84c393f04c9aa479684d3128d6af": {
          "model_module": "@jupyter-widgets/output",
          "model_name": "OutputModel",
          "model_module_version": "1.0.0",
          "state": {
            "_dom_classes": [
              "jp-transient-html"
            ],
            "_model_module": "@jupyter-widgets/output",
            "_model_module_version": "1.0.0",
            "_model_name": "OutputModel",
            "_view_count": null,
            "_view_module": "@jupyter-widgets/output",
            "_view_module_version": "1.0.0",
            "_view_name": "OutputView",
            "layout": "IPY_MODEL_fdf49ff8e05a4938ba8baca4c2d38fac",
            "msg_id": "",
            "outputs": []
          }
        },
        "e184c20b8ced4478bf9972cd34a92ed7": {
          "model_module": "@jupyter-widgets/controls",
          "model_name": "HTMLModel",
          "model_module_version": "1.5.0",
          "state": {
            "_dom_classes": [],
            "_model_module": "@jupyter-widgets/controls",
            "_model_module_version": "1.5.0",
            "_model_name": "HTMLModel",
            "_view_count": null,
            "_view_module": "@jupyter-widgets/controls",
            "_view_module_version": "1.5.0",
            "_view_name": "HTMLView",
            "description": "",
            "description_tooltip": null,
            "layout": "IPY_MODEL_fcb5e338c6ce4628984e26fb86c53ee8",
            "placeholder": "​",
            "style": "IPY_MODEL_8f3fd6c6f19c4456b3855959fe15c6b6",
            "value": "<div style=\"display:none\">\n                <audio onended=\"var widget_our = this.closest('.jp-transient-html');var that = widget_our ? widget_our : this;that.closest('.jp-OutputArea-child').style.display = 'none';\" onloadstart=\"var widget_our = this.closest('.jp-transient-html');var that = widget_our ? widget_our : this;that.closest('.jp-OutputArea-child').style.display = 'none';\"  controls=\"controls\" autoplay=\"autoplay\">\n                    <source src=\"data:audio/x-wav;base64,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\" type=\"audio/x-wav\" />\n                    Your browser does not support the audio element.\n                </audio>\n              </div>"
          }
        },
        "fdf49ff8e05a4938ba8baca4c2d38fac": {
          "model_module": "@jupyter-widgets/base",
          "model_name": "LayoutModel",
          "model_module_version": "1.2.0",
          "state": {
            "_model_module": "@jupyter-widgets/base",
            "_model_module_version": "1.2.0",
            "_model_name": "LayoutModel",
            "_view_count": null,
            "_view_module": "@jupyter-widgets/base",
            "_view_module_version": "1.2.0",
            "_view_name": "LayoutView",
            "align_content": null,
            "align_items": null,
            "align_self": null,
            "border": null,
            "bottom": null,
            "display": null,
            "flex": null,
            "flex_flow": null,
            "grid_area": null,
            "grid_auto_columns": null,
            "grid_auto_flow": null,
            "grid_auto_rows": null,
            "grid_column": null,
            "grid_gap": null,
            "grid_row": null,
            "grid_template_areas": null,
            "grid_template_columns": null,
            "grid_template_rows": null,
            "height": null,
            "justify_content": null,
            "justify_items": null,
            "left": null,
            "margin": null,
            "max_height": null,
            "max_width": null,
            "min_height": null,
            "min_width": null,
            "object_fit": null,
            "object_position": null,
            "order": null,
            "overflow": null,
            "overflow_x": null,
            "overflow_y": null,
            "padding": null,
            "right": null,
            "top": null,
            "visibility": null,
            "width": null
          }
        },
        "fcb5e338c6ce4628984e26fb86c53ee8": {
          "model_module": "@jupyter-widgets/base",
          "model_name": "LayoutModel",
          "model_module_version": "1.2.0",
          "state": {
            "_model_module": "@jupyter-widgets/base",
            "_model_module_version": "1.2.0",
            "_model_name": "LayoutModel",
            "_view_count": null,
            "_view_module": "@jupyter-widgets/base",
            "_view_module_version": "1.2.0",
            "_view_name": "LayoutView",
            "align_content": null,
            "align_items": null,
            "align_self": null,
            "border": null,
            "bottom": null,
            "display": null,
            "flex": null,
            "flex_flow": null,
            "grid_area": null,
            "grid_auto_columns": null,
            "grid_auto_flow": null,
            "grid_auto_rows": null,
            "grid_column": null,
            "grid_gap": null,
            "grid_row": null,
            "grid_template_areas": null,
            "grid_template_columns": null,
            "grid_template_rows": null,
            "height": null,
            "justify_content": null,
            "justify_items": null,
            "left": null,
            "margin": null,
            "max_height": null,
            "max_width": null,
            "min_height": null,
            "min_width": null,
            "object_fit": null,
            "object_position": null,
            "order": null,
            "overflow": null,
            "overflow_x": null,
            "overflow_y": null,
            "padding": null,
            "right": null,
            "top": null,
            "visibility": null,
            "width": null
          }
        },
        "8f3fd6c6f19c4456b3855959fe15c6b6": {
          "model_module": "@jupyter-widgets/controls",
          "model_name": "DescriptionStyleModel",
          "model_module_version": "1.5.0",
          "state": {
            "_model_module": "@jupyter-widgets/controls",
            "_model_module_version": "1.5.0",
            "_model_name": "DescriptionStyleModel",
            "_view_count": null,
            "_view_module": "@jupyter-widgets/base",
            "_view_module_version": "1.2.0",
            "_view_name": "StyleView",
            "description_width": ""
          }
        }
      }
    }
  },
  "nbformat": 4,
  "nbformat_minor": 0
}