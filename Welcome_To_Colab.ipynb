{
  "cells": [
    {
      "cell_type": "markdown",
      "metadata": {
        "id": "view-in-github",
        "colab_type": "text"
      },
      "source": [
        "<a href=\"https://colab.research.google.com/github/Imvicoder/VoiceBotDemo/blob/main/Welcome_To_Colab.ipynb\" target=\"_parent\"><img src=\"https://colab.research.google.com/assets/colab-badge.svg\" alt=\"Open In Colab\"/></a>"
      ]
    },
    {
      "cell_type": "code",
      "source": [
        "!pip install -U -q openai-whisper\n",
        "!pip install -q gradio\n",
        "!apt install ffmpeg\n",
        "!pip install TTS\n",
        "!pip install -q -U google-generativeai\n",
        "!!pip install ffmpeg-python"
      ],
      "metadata": {
        "colab": {
          "base_uri": "https://localhost:8080/"
        },
        "id": "NzYpDmmbBmtr",
        "outputId": "5ff0770b-ced6-4304-a950-f7a124c72d59"
      },
      "execution_count": 1,
      "outputs": [
        {
          "output_type": "stream",
          "name": "stdout",
          "text": [
            "Reading package lists... Done\n",
            "Building dependency tree... Done\n",
            "Reading state information... Done\n",
            "ffmpeg is already the newest version (7:4.4.2-0ubuntu0.22.04.1).\n",
            "0 upgraded, 0 newly installed, 0 to remove and 49 not upgraded.\n",
            "Requirement already satisfied: TTS in /usr/local/lib/python3.10/dist-packages (0.22.0)\n",
            "Requirement already satisfied: cython>=0.29.30 in /usr/local/lib/python3.10/dist-packages (from TTS) (3.0.11)\n",
            "Requirement already satisfied: scipy>=1.11.2 in /usr/local/lib/python3.10/dist-packages (from TTS) (1.11.4)\n",
            "Requirement already satisfied: torch>=2.1 in /usr/local/lib/python3.10/dist-packages (from TTS) (2.5.1+cu121)\n",
            "Requirement already satisfied: torchaudio in /usr/local/lib/python3.10/dist-packages (from TTS) (2.5.1+cu121)\n",
            "Requirement already satisfied: soundfile>=0.12.0 in /usr/local/lib/python3.10/dist-packages (from TTS) (0.12.1)\n",
            "Requirement already satisfied: librosa>=0.10.0 in /usr/local/lib/python3.10/dist-packages (from TTS) (0.10.0)\n",
            "Requirement already satisfied: scikit-learn>=1.3.0 in /usr/local/lib/python3.10/dist-packages (from TTS) (1.6.0)\n",
            "Requirement already satisfied: inflect>=5.6.0 in /usr/local/lib/python3.10/dist-packages (from TTS) (7.4.0)\n",
            "Requirement already satisfied: tqdm>=4.64.1 in /usr/local/lib/python3.10/dist-packages (from TTS) (4.67.1)\n",
            "Requirement already satisfied: anyascii>=0.3.0 in /usr/local/lib/python3.10/dist-packages (from TTS) (0.3.2)\n",
            "Requirement already satisfied: pyyaml>=6.0 in /usr/local/lib/python3.10/dist-packages (from TTS) (6.0.2)\n",
            "Requirement already satisfied: fsspec>=2023.6.0 in /usr/local/lib/python3.10/dist-packages (from TTS) (2024.10.0)\n",
            "Requirement already satisfied: aiohttp>=3.8.1 in /usr/local/lib/python3.10/dist-packages (from TTS) (3.11.10)\n",
            "Requirement already satisfied: packaging>=23.1 in /usr/local/lib/python3.10/dist-packages (from TTS) (24.2)\n",
            "Requirement already satisfied: flask>=2.0.1 in /usr/local/lib/python3.10/dist-packages (from TTS) (3.1.0)\n",
            "Requirement already satisfied: pysbd>=0.3.4 in /usr/local/lib/python3.10/dist-packages (from TTS) (0.3.4)\n",
            "Requirement already satisfied: umap-learn>=0.5.1 in /usr/local/lib/python3.10/dist-packages (from TTS) (0.5.7)\n",
            "Requirement already satisfied: pandas<2.0,>=1.4 in /usr/local/lib/python3.10/dist-packages (from TTS) (1.5.3)\n",
            "Requirement already satisfied: matplotlib>=3.7.0 in /usr/local/lib/python3.10/dist-packages (from TTS) (3.8.0)\n",
            "Requirement already satisfied: trainer>=0.0.32 in /usr/local/lib/python3.10/dist-packages (from TTS) (0.0.36)\n",
            "Requirement already satisfied: coqpit>=0.0.16 in /usr/local/lib/python3.10/dist-packages (from TTS) (0.0.17)\n",
            "Requirement already satisfied: jieba in /usr/local/lib/python3.10/dist-packages (from TTS) (0.42.1)\n",
            "Requirement already satisfied: pypinyin in /usr/local/lib/python3.10/dist-packages (from TTS) (0.53.0)\n",
            "Requirement already satisfied: hangul-romanize in /usr/local/lib/python3.10/dist-packages (from TTS) (0.1.0)\n",
            "Requirement already satisfied: gruut==2.2.3 in /usr/local/lib/python3.10/dist-packages (from gruut[de,es,fr]==2.2.3->TTS) (2.2.3)\n",
            "Requirement already satisfied: jamo in /usr/local/lib/python3.10/dist-packages (from TTS) (0.4.1)\n",
            "Requirement already satisfied: nltk in /usr/local/lib/python3.10/dist-packages (from TTS) (3.9.1)\n",
            "Requirement already satisfied: g2pkk>=0.1.1 in /usr/local/lib/python3.10/dist-packages (from TTS) (0.1.2)\n",
            "Requirement already satisfied: bangla in /usr/local/lib/python3.10/dist-packages (from TTS) (0.0.2)\n",
            "Requirement already satisfied: bnnumerizer in /usr/local/lib/python3.10/dist-packages (from TTS) (0.0.2)\n",
            "Requirement already satisfied: bnunicodenormalizer in /usr/local/lib/python3.10/dist-packages (from TTS) (0.1.7)\n",
            "Requirement already satisfied: einops>=0.6.0 in /usr/local/lib/python3.10/dist-packages (from TTS) (0.8.0)\n",
            "Requirement already satisfied: transformers>=4.33.0 in /usr/local/lib/python3.10/dist-packages (from TTS) (4.47.1)\n",
            "Requirement already satisfied: encodec>=0.1.1 in /usr/local/lib/python3.10/dist-packages (from TTS) (0.1.1)\n",
            "Requirement already satisfied: unidecode>=1.3.2 in /usr/local/lib/python3.10/dist-packages (from TTS) (1.3.8)\n",
            "Requirement already satisfied: num2words in /usr/local/lib/python3.10/dist-packages (from TTS) (0.5.14)\n",
            "Requirement already satisfied: spacy>=3 in /usr/local/lib/python3.10/dist-packages (from spacy[ja]>=3->TTS) (3.7.5)\n",
            "Requirement already satisfied: numpy==1.22.0 in /usr/local/lib/python3.10/dist-packages (from TTS) (1.22.0)\n",
            "Requirement already satisfied: numba>=0.57.0 in /usr/local/lib/python3.10/dist-packages (from TTS) (0.60.0)\n",
            "Requirement already satisfied: Babel<3.0.0,>=2.8.0 in /usr/local/lib/python3.10/dist-packages (from gruut==2.2.3->gruut[de,es,fr]==2.2.3->TTS) (2.16.0)\n",
            "Requirement already satisfied: dateparser~=1.1.0 in /usr/local/lib/python3.10/dist-packages (from gruut==2.2.3->gruut[de,es,fr]==2.2.3->TTS) (1.1.8)\n",
            "Requirement already satisfied: gruut-ipa<1.0,>=0.12.0 in /usr/local/lib/python3.10/dist-packages (from gruut==2.2.3->gruut[de,es,fr]==2.2.3->TTS) (0.13.0)\n",
            "Requirement already satisfied: gruut-lang-en~=2.0.0 in /usr/local/lib/python3.10/dist-packages (from gruut==2.2.3->gruut[de,es,fr]==2.2.3->TTS) (2.0.1)\n",
            "Requirement already satisfied: jsonlines~=1.2.0 in /usr/local/lib/python3.10/dist-packages (from gruut==2.2.3->gruut[de,es,fr]==2.2.3->TTS) (1.2.0)\n",
            "Requirement already satisfied: networkx<3.0.0,>=2.5.0 in /usr/local/lib/python3.10/dist-packages (from gruut==2.2.3->gruut[de,es,fr]==2.2.3->TTS) (2.8.8)\n",
            "Requirement already satisfied: python-crfsuite~=0.9.7 in /usr/local/lib/python3.10/dist-packages (from gruut==2.2.3->gruut[de,es,fr]==2.2.3->TTS) (0.9.11)\n",
            "Requirement already satisfied: gruut-lang-fr~=2.0.0 in /usr/local/lib/python3.10/dist-packages (from gruut[de,es,fr]==2.2.3->TTS) (2.0.2)\n",
            "Requirement already satisfied: gruut-lang-es~=2.0.0 in /usr/local/lib/python3.10/dist-packages (from gruut[de,es,fr]==2.2.3->TTS) (2.0.1)\n",
            "Requirement already satisfied: gruut-lang-de~=2.0.0 in /usr/local/lib/python3.10/dist-packages (from gruut[de,es,fr]==2.2.3->TTS) (2.0.1)\n",
            "Requirement already satisfied: aiohappyeyeballs>=2.3.0 in /usr/local/lib/python3.10/dist-packages (from aiohttp>=3.8.1->TTS) (2.4.4)\n",
            "Requirement already satisfied: aiosignal>=1.1.2 in /usr/local/lib/python3.10/dist-packages (from aiohttp>=3.8.1->TTS) (1.3.2)\n",
            "Requirement already satisfied: async-timeout<6.0,>=4.0 in /usr/local/lib/python3.10/dist-packages (from aiohttp>=3.8.1->TTS) (4.0.3)\n",
            "Requirement already satisfied: attrs>=17.3.0 in /usr/local/lib/python3.10/dist-packages (from aiohttp>=3.8.1->TTS) (24.3.0)\n",
            "Requirement already satisfied: frozenlist>=1.1.1 in /usr/local/lib/python3.10/dist-packages (from aiohttp>=3.8.1->TTS) (1.5.0)\n",
            "Requirement already satisfied: multidict<7.0,>=4.5 in /usr/local/lib/python3.10/dist-packages (from aiohttp>=3.8.1->TTS) (6.1.0)\n",
            "Requirement already satisfied: propcache>=0.2.0 in /usr/local/lib/python3.10/dist-packages (from aiohttp>=3.8.1->TTS) (0.2.1)\n",
            "Requirement already satisfied: yarl<2.0,>=1.17.0 in /usr/local/lib/python3.10/dist-packages (from aiohttp>=3.8.1->TTS) (1.18.3)\n",
            "Requirement already satisfied: Werkzeug>=3.1 in /usr/local/lib/python3.10/dist-packages (from flask>=2.0.1->TTS) (3.1.3)\n",
            "Requirement already satisfied: Jinja2>=3.1.2 in /usr/local/lib/python3.10/dist-packages (from flask>=2.0.1->TTS) (3.1.4)\n",
            "Requirement already satisfied: itsdangerous>=2.2 in /usr/local/lib/python3.10/dist-packages (from flask>=2.0.1->TTS) (2.2.0)\n",
            "Requirement already satisfied: click>=8.1.3 in /usr/local/lib/python3.10/dist-packages (from flask>=2.0.1->TTS) (8.1.7)\n",
            "Requirement already satisfied: blinker>=1.9 in /usr/local/lib/python3.10/dist-packages (from flask>=2.0.1->TTS) (1.9.0)\n",
            "Requirement already satisfied: more-itertools>=8.5.0 in /usr/local/lib/python3.10/dist-packages (from inflect>=5.6.0->TTS) (10.5.0)\n",
            "Requirement already satisfied: typeguard>=4.0.1 in /usr/local/lib/python3.10/dist-packages (from inflect>=5.6.0->TTS) (4.4.1)\n",
            "Requirement already satisfied: audioread>=2.1.9 in /usr/local/lib/python3.10/dist-packages (from librosa>=0.10.0->TTS) (3.0.1)\n",
            "Requirement already satisfied: joblib>=0.14 in /usr/local/lib/python3.10/dist-packages (from librosa>=0.10.0->TTS) (1.4.2)\n",
            "Requirement already satisfied: decorator>=4.3.0 in /usr/local/lib/python3.10/dist-packages (from librosa>=0.10.0->TTS) (4.4.2)\n",
            "Requirement already satisfied: pooch>=1.0 in /usr/local/lib/python3.10/dist-packages (from librosa>=0.10.0->TTS) (1.8.2)\n",
            "Requirement already satisfied: soxr>=0.3.2 in /usr/local/lib/python3.10/dist-packages (from librosa>=0.10.0->TTS) (0.5.0.post1)\n",
            "Requirement already satisfied: typing-extensions>=4.1.1 in /usr/local/lib/python3.10/dist-packages (from librosa>=0.10.0->TTS) (4.12.2)\n",
            "Requirement already satisfied: lazy-loader>=0.1 in /usr/local/lib/python3.10/dist-packages (from librosa>=0.10.0->TTS) (0.4)\n",
            "Requirement already satisfied: msgpack>=1.0 in /usr/local/lib/python3.10/dist-packages (from librosa>=0.10.0->TTS) (1.1.0)\n",
            "Requirement already satisfied: contourpy>=1.0.1 in /usr/local/lib/python3.10/dist-packages (from matplotlib>=3.7.0->TTS) (1.2.1)\n",
            "Requirement already satisfied: cycler>=0.10 in /usr/local/lib/python3.10/dist-packages (from matplotlib>=3.7.0->TTS) (0.12.1)\n",
            "Requirement already satisfied: fonttools>=4.22.0 in /usr/local/lib/python3.10/dist-packages (from matplotlib>=3.7.0->TTS) (4.55.3)\n",
            "Requirement already satisfied: kiwisolver>=1.0.1 in /usr/local/lib/python3.10/dist-packages (from matplotlib>=3.7.0->TTS) (1.4.7)\n",
            "Requirement already satisfied: pillow>=6.2.0 in /usr/local/lib/python3.10/dist-packages (from matplotlib>=3.7.0->TTS) (11.0.0)\n",
            "Requirement already satisfied: pyparsing>=2.3.1 in /usr/local/lib/python3.10/dist-packages (from matplotlib>=3.7.0->TTS) (3.2.0)\n",
            "Requirement already satisfied: python-dateutil>=2.7 in /usr/local/lib/python3.10/dist-packages (from matplotlib>=3.7.0->TTS) (2.8.2)\n",
            "Requirement already satisfied: docopt>=0.6.2 in /usr/local/lib/python3.10/dist-packages (from num2words->TTS) (0.6.2)\n",
            "Requirement already satisfied: llvmlite<0.44,>=0.43.0dev0 in /usr/local/lib/python3.10/dist-packages (from numba>=0.57.0->TTS) (0.43.0)\n",
            "Requirement already satisfied: pytz>=2020.1 in /usr/local/lib/python3.10/dist-packages (from pandas<2.0,>=1.4->TTS) (2024.2)\n",
            "Requirement already satisfied: threadpoolctl>=3.1.0 in /usr/local/lib/python3.10/dist-packages (from scikit-learn>=1.3.0->TTS) (3.5.0)\n",
            "Requirement already satisfied: cffi>=1.0 in /usr/local/lib/python3.10/dist-packages (from soundfile>=0.12.0->TTS) (1.17.1)\n",
            "Requirement already satisfied: spacy-legacy<3.1.0,>=3.0.11 in /usr/local/lib/python3.10/dist-packages (from spacy>=3->spacy[ja]>=3->TTS) (3.0.12)\n",
            "Requirement already satisfied: spacy-loggers<2.0.0,>=1.0.0 in /usr/local/lib/python3.10/dist-packages (from spacy>=3->spacy[ja]>=3->TTS) (1.0.5)\n",
            "Requirement already satisfied: murmurhash<1.1.0,>=0.28.0 in /usr/local/lib/python3.10/dist-packages (from spacy>=3->spacy[ja]>=3->TTS) (1.0.11)\n",
            "Requirement already satisfied: cymem<2.1.0,>=2.0.2 in /usr/local/lib/python3.10/dist-packages (from spacy>=3->spacy[ja]>=3->TTS) (2.0.10)\n",
            "Requirement already satisfied: preshed<3.1.0,>=3.0.2 in /usr/local/lib/python3.10/dist-packages (from spacy>=3->spacy[ja]>=3->TTS) (3.0.9)\n",
            "Requirement already satisfied: thinc<8.3.0,>=8.2.2 in /usr/local/lib/python3.10/dist-packages (from spacy>=3->spacy[ja]>=3->TTS) (8.2.5)\n",
            "Requirement already satisfied: wasabi<1.2.0,>=0.9.1 in /usr/local/lib/python3.10/dist-packages (from spacy>=3->spacy[ja]>=3->TTS) (1.1.3)\n",
            "Requirement already satisfied: srsly<3.0.0,>=2.4.3 in /usr/local/lib/python3.10/dist-packages (from spacy>=3->spacy[ja]>=3->TTS) (2.5.0)\n",
            "Requirement already satisfied: catalogue<2.1.0,>=2.0.6 in /usr/local/lib/python3.10/dist-packages (from spacy>=3->spacy[ja]>=3->TTS) (2.0.10)\n",
            "Requirement already satisfied: weasel<0.5.0,>=0.1.0 in /usr/local/lib/python3.10/dist-packages (from spacy>=3->spacy[ja]>=3->TTS) (0.4.1)\n",
            "Requirement already satisfied: typer<1.0.0,>=0.3.0 in /usr/local/lib/python3.10/dist-packages (from spacy>=3->spacy[ja]>=3->TTS) (0.15.1)\n",
            "Requirement already satisfied: requests<3.0.0,>=2.13.0 in /usr/local/lib/python3.10/dist-packages (from spacy>=3->spacy[ja]>=3->TTS) (2.32.3)\n",
            "Requirement already satisfied: pydantic!=1.8,!=1.8.1,<3.0.0,>=1.7.4 in /usr/local/lib/python3.10/dist-packages (from spacy>=3->spacy[ja]>=3->TTS) (2.10.3)\n",
            "Requirement already satisfied: setuptools in /usr/local/lib/python3.10/dist-packages (from spacy>=3->spacy[ja]>=3->TTS) (75.1.0)\n",
            "Requirement already satisfied: langcodes<4.0.0,>=3.2.0 in /usr/local/lib/python3.10/dist-packages (from spacy>=3->spacy[ja]>=3->TTS) (3.5.0)\n",
            "Requirement already satisfied: sudachipy!=0.6.1,>=0.5.2 in /usr/local/lib/python3.10/dist-packages (from spacy[ja]>=3->TTS) (0.6.10)\n",
            "Requirement already satisfied: sudachidict-core>=20211220 in /usr/local/lib/python3.10/dist-packages (from spacy[ja]>=3->TTS) (20241021)\n",
            "Requirement already satisfied: filelock in /usr/local/lib/python3.10/dist-packages (from torch>=2.1->TTS) (3.16.1)\n",
            "Requirement already satisfied: sympy==1.13.1 in /usr/local/lib/python3.10/dist-packages (from torch>=2.1->TTS) (1.13.1)\n",
            "Requirement already satisfied: mpmath<1.4,>=1.1.0 in /usr/local/lib/python3.10/dist-packages (from sympy==1.13.1->torch>=2.1->TTS) (1.3.0)\n",
            "Requirement already satisfied: psutil in /usr/local/lib/python3.10/dist-packages (from trainer>=0.0.32->TTS) (5.9.5)\n",
            "Requirement already satisfied: tensorboard in /usr/local/lib/python3.10/dist-packages (from trainer>=0.0.32->TTS) (2.17.1)\n",
            "Requirement already satisfied: huggingface-hub<1.0,>=0.24.0 in /usr/local/lib/python3.10/dist-packages (from transformers>=4.33.0->TTS) (0.27.0)\n",
            "Requirement already satisfied: regex!=2019.12.17 in /usr/local/lib/python3.10/dist-packages (from transformers>=4.33.0->TTS) (2024.11.6)\n",
            "Requirement already satisfied: tokenizers<0.22,>=0.21 in /usr/local/lib/python3.10/dist-packages (from transformers>=4.33.0->TTS) (0.21.0)\n",
            "Requirement already satisfied: safetensors>=0.4.1 in /usr/local/lib/python3.10/dist-packages (from transformers>=4.33.0->TTS) (0.4.5)\n",
            "Requirement already satisfied: pynndescent>=0.5 in /usr/local/lib/python3.10/dist-packages (from umap-learn>=0.5.1->TTS) (0.5.13)\n",
            "Requirement already satisfied: pycparser in /usr/local/lib/python3.10/dist-packages (from cffi>=1.0->soundfile>=0.12.0->TTS) (2.22)\n",
            "Requirement already satisfied: tzlocal in /usr/local/lib/python3.10/dist-packages (from dateparser~=1.1.0->gruut==2.2.3->gruut[de,es,fr]==2.2.3->TTS) (5.2)\n",
            "Requirement already satisfied: MarkupSafe>=2.0 in /usr/local/lib/python3.10/dist-packages (from Jinja2>=3.1.2->flask>=2.0.1->TTS) (2.1.5)\n",
            "Requirement already satisfied: six in /usr/local/lib/python3.10/dist-packages (from jsonlines~=1.2.0->gruut==2.2.3->gruut[de,es,fr]==2.2.3->TTS) (1.17.0)\n",
            "Requirement already satisfied: language-data>=1.2 in /usr/local/lib/python3.10/dist-packages (from langcodes<4.0.0,>=3.2.0->spacy>=3->spacy[ja]>=3->TTS) (1.3.0)\n",
            "Requirement already satisfied: platformdirs>=2.5.0 in /usr/local/lib/python3.10/dist-packages (from pooch>=1.0->librosa>=0.10.0->TTS) (4.3.6)\n",
            "Requirement already satisfied: annotated-types>=0.6.0 in /usr/local/lib/python3.10/dist-packages (from pydantic!=1.8,!=1.8.1,<3.0.0,>=1.7.4->spacy>=3->spacy[ja]>=3->TTS) (0.7.0)\n",
            "Requirement already satisfied: pydantic-core==2.27.1 in /usr/local/lib/python3.10/dist-packages (from pydantic!=1.8,!=1.8.1,<3.0.0,>=1.7.4->spacy>=3->spacy[ja]>=3->TTS) (2.27.1)\n",
            "Requirement already satisfied: charset-normalizer<4,>=2 in /usr/local/lib/python3.10/dist-packages (from requests<3.0.0,>=2.13.0->spacy>=3->spacy[ja]>=3->TTS) (3.4.0)\n",
            "Requirement already satisfied: idna<4,>=2.5 in /usr/local/lib/python3.10/dist-packages (from requests<3.0.0,>=2.13.0->spacy>=3->spacy[ja]>=3->TTS) (3.10)\n",
            "Requirement already satisfied: urllib3<3,>=1.21.1 in /usr/local/lib/python3.10/dist-packages (from requests<3.0.0,>=2.13.0->spacy>=3->spacy[ja]>=3->TTS) (2.2.3)\n",
            "Requirement already satisfied: certifi>=2017.4.17 in /usr/local/lib/python3.10/dist-packages (from requests<3.0.0,>=2.13.0->spacy>=3->spacy[ja]>=3->TTS) (2024.12.14)\n",
            "Requirement already satisfied: blis<0.8.0,>=0.7.8 in /usr/local/lib/python3.10/dist-packages (from thinc<8.3.0,>=8.2.2->spacy>=3->spacy[ja]>=3->TTS) (0.7.11)\n",
            "Requirement already satisfied: confection<1.0.0,>=0.0.1 in /usr/local/lib/python3.10/dist-packages (from thinc<8.3.0,>=8.2.2->spacy>=3->spacy[ja]>=3->TTS) (0.1.5)\n",
            "Requirement already satisfied: shellingham>=1.3.0 in /usr/local/lib/python3.10/dist-packages (from typer<1.0.0,>=0.3.0->spacy>=3->spacy[ja]>=3->TTS) (1.5.4)\n",
            "Requirement already satisfied: rich>=10.11.0 in /usr/local/lib/python3.10/dist-packages (from typer<1.0.0,>=0.3.0->spacy>=3->spacy[ja]>=3->TTS) (13.9.4)\n",
            "Requirement already satisfied: cloudpathlib<1.0.0,>=0.7.0 in /usr/local/lib/python3.10/dist-packages (from weasel<0.5.0,>=0.1.0->spacy>=3->spacy[ja]>=3->TTS) (0.20.0)\n",
            "Requirement already satisfied: smart-open<8.0.0,>=5.2.1 in /usr/local/lib/python3.10/dist-packages (from weasel<0.5.0,>=0.1.0->spacy>=3->spacy[ja]>=3->TTS) (7.1.0)\n",
            "Requirement already satisfied: absl-py>=0.4 in /usr/local/lib/python3.10/dist-packages (from tensorboard->trainer>=0.0.32->TTS) (1.4.0)\n",
            "Requirement already satisfied: grpcio>=1.48.2 in /usr/local/lib/python3.10/dist-packages (from tensorboard->trainer>=0.0.32->TTS) (1.68.1)\n",
            "Requirement already satisfied: markdown>=2.6.8 in /usr/local/lib/python3.10/dist-packages (from tensorboard->trainer>=0.0.32->TTS) (3.7)\n",
            "Requirement already satisfied: protobuf!=4.24.0,>=3.19.6 in /usr/local/lib/python3.10/dist-packages (from tensorboard->trainer>=0.0.32->TTS) (4.25.5)\n",
            "Requirement already satisfied: tensorboard-data-server<0.8.0,>=0.7.0 in /usr/local/lib/python3.10/dist-packages (from tensorboard->trainer>=0.0.32->TTS) (0.7.2)\n",
            "Requirement already satisfied: marisa-trie>=1.1.0 in /usr/local/lib/python3.10/dist-packages (from language-data>=1.2->langcodes<4.0.0,>=3.2.0->spacy>=3->spacy[ja]>=3->TTS) (1.2.1)\n",
            "Requirement already satisfied: markdown-it-py>=2.2.0 in /usr/local/lib/python3.10/dist-packages (from rich>=10.11.0->typer<1.0.0,>=0.3.0->spacy>=3->spacy[ja]>=3->TTS) (3.0.0)\n",
            "Requirement already satisfied: pygments<3.0.0,>=2.13.0 in /usr/local/lib/python3.10/dist-packages (from rich>=10.11.0->typer<1.0.0,>=0.3.0->spacy>=3->spacy[ja]>=3->TTS) (2.18.0)\n",
            "Requirement already satisfied: wrapt in /usr/local/lib/python3.10/dist-packages (from smart-open<8.0.0,>=5.2.1->weasel<0.5.0,>=0.1.0->spacy>=3->spacy[ja]>=3->TTS) (1.17.0)\n",
            "Requirement already satisfied: mdurl~=0.1 in /usr/local/lib/python3.10/dist-packages (from markdown-it-py>=2.2.0->rich>=10.11.0->typer<1.0.0,>=0.3.0->spacy>=3->spacy[ja]>=3->TTS) (0.1.2)\n"
          ]
        },
        {
          "output_type": "execute_result",
          "data": {
            "text/plain": [
              "['Requirement already satisfied: ffmpeg-python in /usr/local/lib/python3.10/dist-packages (0.2.0)',\n",
              " 'Requirement already satisfied: future in /usr/local/lib/python3.10/dist-packages (from ffmpeg-python) (1.0.0)']"
            ]
          },
          "metadata": {},
          "execution_count": 1
        }
      ]
    },
    {
      "cell_type": "code",
      "source": [
        "# # Import the Python SDK\n",
        "# import google.generativeai as genai"
      ],
      "metadata": {
        "id": "cD3xFfG3ENS9"
      },
      "execution_count": 2,
      "outputs": []
    },
    {
      "cell_type": "code",
      "source": [
        "# from google.colab import userdata\n",
        "\n",
        "# GOOGLE_API_KEY= ''\n",
        "# genai.configure(api_key=GOOGLE_API_KEY)"
      ],
      "metadata": {
        "id": "KMWTd08NESs7"
      },
      "execution_count": 3,
      "outputs": []
    },
    {
      "cell_type": "code",
      "source": [
        "# model = genai.GenerativeModel('gemini-pro')"
      ],
      "metadata": {
        "id": "bQh9aV-sEVzD"
      },
      "execution_count": 4,
      "outputs": []
    },
    {
      "cell_type": "code",
      "source": [
        "#response = model.generate_content(\"Write a story about a magic backpack.\")"
      ],
      "metadata": {
        "id": "h4EznLo4E3NE"
      },
      "execution_count": 5,
      "outputs": []
    },
    {
      "cell_type": "code",
      "source": [
        "# import torch\n",
        "# # Check if GPU is available\n",
        "# if torch.cuda.is_available():\n",
        "#     device = torch.device(\"cuda\")\n",
        "#     print(\"GPU is available\")\n",
        "# else:\n",
        "#     device = torch.device(\"cpu\")\n",
        "#     print(\"GPU is not available, using CPU\")"
      ],
      "metadata": {
        "id": "eDPgG0Zjs8QP",
        "outputId": "feae610e-f4de-4d1f-c48d-f01b8adf9b0d",
        "colab": {
          "base_uri": "https://localhost:8080/"
        }
      },
      "execution_count": 7,
      "outputs": [
        {
          "output_type": "stream",
          "name": "stdout",
          "text": [
            "GPU is available\n"
          ]
        }
      ]
    },
    {
      "cell_type": "code",
      "source": [
        "import whisper\n",
        "\n",
        "# Load model and move to GPU if available\n",
        "model = whisper.load_model(\"medium\").to(device)"
      ],
      "metadata": {
        "colab": {
          "base_uri": "https://localhost:8080/"
        },
        "id": "rpwhI5KME6AA",
        "outputId": "c7a5d873-8f6a-4dba-8af8-7baacb3e6aea"
      },
      "execution_count": 44,
      "outputs": [
        {
          "output_type": "stream",
          "name": "stderr",
          "text": [
            "/usr/local/lib/python3.10/dist-packages/whisper/__init__.py:150: FutureWarning: You are using `torch.load` with `weights_only=False` (the current default value), which uses the default pickle module implicitly. It is possible to construct malicious pickle data which will execute arbitrary code during unpickling (See https://github.com/pytorch/pytorch/blob/main/SECURITY.md#untrusted-models for more details). In a future release, the default value for `weights_only` will be flipped to `True`. This limits the functions that could be executed during unpickling. Arbitrary objects will no longer be allowed to be loaded via this mode unless they are explicitly allowlisted by the user via `torch.serialization.add_safe_globals`. We recommend you start setting `weights_only=True` for any use case where you don't have full control of the loaded file. Please open an issue on GitHub for any issues related to this experimental feature.\n",
            "  checkpoint = torch.load(fp, map_location=device)\n"
          ]
        }
      ]
    },
    {
      "cell_type": "code",
      "source": [],
      "metadata": {
        "id": "tSfdop0_K9YL"
      },
      "execution_count": 44,
      "outputs": []
    },
    {
      "cell_type": "code",
      "source": [
        "import numpy as np"
      ],
      "metadata": {
        "id": "aAr6l2IfN8wQ"
      },
      "execution_count": 45,
      "outputs": []
    },
    {
      "cell_type": "code",
      "source": [
        "from IPython.display import display, HTML\n",
        "from google.colab.output import eval_js\n",
        "from base64 import b64decode\n",
        "import numpy as np\n",
        "from scipy.io.wavfile import read as wav_read\n",
        "import io\n",
        "import ffmpeg"
      ],
      "metadata": {
        "id": "0viXos7KRqAw"
      },
      "execution_count": 46,
      "outputs": []
    },
    {
      "cell_type": "code",
      "source": [
        "AUDIO_HTML = \"\"\"\n",
        "<script>\n",
        "var my_div = document.createElement(\"DIV\");\n",
        "var my_p = document.createElement(\"P\");\n",
        "var my_btn = document.createElement(\"BUTTON\");\n",
        "var t = document.createTextNode(\"\");\n",
        "\n",
        "my_btn.appendChild(t);\n",
        "//my_p.appendChild(my_btn);\n",
        "my_div.appendChild(my_btn);\n",
        "document.body.appendChild(my_div);\n",
        "\n",
        "var base64data = 0;\n",
        "var reader;\n",
        "var recorder, gumStream;\n",
        "var recordButton = my_btn;\n",
        "\n",
        "var handleSuccess = function(stream) {\n",
        "  gumStream = stream;\n",
        "  var options = {\n",
        "    //bitsPerSecond: 8000, //chrome seems to ignore, always 48k\n",
        "    mimeType : 'audio/webm;codecs=opus'\n",
        "    //mimeType : 'audio/webm;codecs=pcm'\n",
        "  };\n",
        "  //recorder = new MediaRecorder(stream, options);\n",
        "  recorder = new MediaRecorder(stream);\n",
        "  recorder.ondataavailable = function(e) {\n",
        "    var url = URL.createObjectURL(e.data);\n",
        "    //var preview = document.createElement('audio');  # this is used to play the recorded audio\n",
        "    //preview.controls = true;\n",
        "    //preview.src = url;\n",
        "    //document.body.appendChild(preview);\n",
        "\n",
        "    reader = new FileReader();\n",
        "    reader.readAsDataURL(e.data);\n",
        "    reader.onloadend = function() {\n",
        "      base64data = reader.result;\n",
        "      //console.log(\"Inside FileReader:\" + base64data);\n",
        "    }\n",
        "  };\n",
        "  recorder.start();\n",
        "  };\n",
        "\n",
        "recordButton.innerText = \"Recording... press to stop\";\n",
        "\n",
        "navigator.mediaDevices.getUserMedia({audio: true}).then(handleSuccess);\n",
        "\n",
        "\n",
        "function toggleRecording() {\n",
        "  if (recorder && recorder.state == \"recording\") {\n",
        "      recorder.stop();\n",
        "      gumStream.getAudioTracks()[0].stop();\n",
        "      recordButton.innerText = \"\"\n",
        "  }\n",
        "}\n",
        "\n",
        "// https://stackoverflow.com/a/951057\n",
        "function sleep(ms) {\n",
        "  return new Promise(resolve => setTimeout(resolve, ms));\n",
        "}\n",
        "\n",
        "var data = new Promise(resolve=>{\n",
        "//recordButton.addEventListener(\"click\", toggleRecording);\n",
        "recordButton.onclick = ()=>{\n",
        "toggleRecording()\n",
        "\n",
        "sleep(2000).then(() => {\n",
        "  // wait 2000ms for the data to be available...\n",
        "  // ideally this should use something like await...\n",
        "  //console.log(\"Inside data:\" + base64data)\n",
        "  resolve(base64data.toString())\n",
        "\n",
        "});\n",
        "\n",
        "}\n",
        "});\n",
        "\n",
        "</script>\n",
        "\"\"\"\n"
      ],
      "metadata": {
        "id": "u1CYRiJ_STl7"
      },
      "execution_count": 89,
      "outputs": []
    },
    {
      "cell_type": "code",
      "source": [
        "def get_audio():\n",
        "  display(HTML(AUDIO_HTML))\n",
        "  data = eval_js(\"data\")\n",
        "  binary = b64decode(data.split(',')[1])\n",
        "\n",
        "  process = (ffmpeg\n",
        "    .input('pipe:0')\n",
        "    .output('pipe:1', format='wav')\n",
        "    .run_async(pipe_stdin=True, pipe_stdout=True, pipe_stderr=True, quiet=True, overwrite_output=True)\n",
        "  )\n",
        "  output, err = process.communicate(input=binary)\n",
        "\n",
        "  riff_chunk_size = len(output) - 8\n",
        "  # Break up the chunk size into four bytes, held in b.\n",
        "  q = riff_chunk_size\n",
        "  b = []\n",
        "  for i in range(4):\n",
        "      q, r = divmod(q, 256)\n",
        "      b.append(r)\n",
        "\n",
        "  # Replace bytes 4:8 in proc.stdout with the actual size of the RIFF chunk.\n",
        "  riff = output[:4] + bytes(b) + output[8:]\n",
        "\n",
        "  sr, audio = wav_read(io.BytesIO(riff))\n",
        "\n",
        "  return audio, sr"
      ],
      "metadata": {
        "id": "cXuUK8VDUnL7"
      },
      "execution_count": 90,
      "outputs": []
    },
    {
      "cell_type": "code",
      "source": [
        "import numpy as np\n",
        "from scipy.io.wavfile import write\n",
        "import whisper\n",
        "import io"
      ],
      "metadata": {
        "id": "QT0JIvb9T2pK"
      },
      "execution_count": 91,
      "outputs": []
    },
    {
      "cell_type": "code",
      "source": [
        "# Function to save numpy array as WAV file\n",
        "def save_audio_as_wav(audio_np, sample_rate, filename=\"recorded_audio.wav\"):\n",
        "    write(filename, sample_rate, audio_np)"
      ],
      "metadata": {
        "id": "zVUjSMJsXK0V"
      },
      "execution_count": 92,
      "outputs": []
    },
    {
      "cell_type": "code",
      "source": [],
      "metadata": {
        "id": "lj6sMcdAXOEt"
      },
      "execution_count": 92,
      "outputs": []
    },
    {
      "cell_type": "code",
      "source": [
        "# Function to transcribe audio using Whisper\n",
        "def transcribe_audio(filename):\n",
        "    audio, sr = get_audio()\n",
        "    save_audio_as_wav(audio, sr)\n",
        "    result = model.transcribe(filename)\n",
        "    return result['text']"
      ],
      "metadata": {
        "id": "oRTjNTXfXRJ5"
      },
      "execution_count": 93,
      "outputs": []
    },
    {
      "cell_type": "code",
      "source": [
        "transcription = transcribe_audio(\"recorded_audio.wav\")\n",
        "\n",
        "print(\"Transcription:\")\n",
        "print(transcription)"
      ],
      "metadata": {
        "id": "pTiUqtboXUCt",
        "outputId": "aac5dba4-d986-48ce-f1bf-6e20e89a51a6",
        "colab": {
          "base_uri": "https://localhost:8080/",
          "height": 69
        }
      },
      "execution_count": 94,
      "outputs": [
        {
          "output_type": "display_data",
          "data": {
            "text/plain": [
              "<IPython.core.display.HTML object>"
            ],
            "text/html": [
              "\n",
              "<script>\n",
              "var my_div = document.createElement(\"DIV\");\n",
              "var my_p = document.createElement(\"P\");\n",
              "var my_btn = document.createElement(\"BUTTON\");\n",
              "var t = document.createTextNode(\"\");\n",
              "\n",
              "my_btn.appendChild(t);\n",
              "//my_p.appendChild(my_btn);\n",
              "my_div.appendChild(my_btn);\n",
              "document.body.appendChild(my_div);\n",
              "\n",
              "var base64data = 0;\n",
              "var reader;\n",
              "var recorder, gumStream;\n",
              "var recordButton = my_btn;\n",
              "\n",
              "var handleSuccess = function(stream) {\n",
              "  gumStream = stream;\n",
              "  var options = {\n",
              "    //bitsPerSecond: 8000, //chrome seems to ignore, always 48k\n",
              "    mimeType : 'audio/webm;codecs=opus'\n",
              "    //mimeType : 'audio/webm;codecs=pcm'\n",
              "  };            \n",
              "  //recorder = new MediaRecorder(stream, options);\n",
              "  recorder = new MediaRecorder(stream);\n",
              "  recorder.ondataavailable = function(e) {            \n",
              "    var url = URL.createObjectURL(e.data);\n",
              "    //var preview = document.createElement('audio');\n",
              "    //preview.controls = true;\n",
              "    //preview.src = url;\n",
              "    //document.body.appendChild(preview);\n",
              "\n",
              "    reader = new FileReader();\n",
              "    reader.readAsDataURL(e.data); \n",
              "    reader.onloadend = function() {\n",
              "      base64data = reader.result;\n",
              "      //console.log(\"Inside FileReader:\" + base64data);\n",
              "    }\n",
              "  };\n",
              "  recorder.start();\n",
              "  };\n",
              "\n",
              "recordButton.innerText = \"Recording... press to stop\";\n",
              "\n",
              "navigator.mediaDevices.getUserMedia({audio: true}).then(handleSuccess);\n",
              "\n",
              "\n",
              "function toggleRecording() {\n",
              "  if (recorder && recorder.state == \"recording\") {\n",
              "      recorder.stop();\n",
              "      gumStream.getAudioTracks()[0].stop();\n",
              "      recordButton.innerText = \"\"\n",
              "  }\n",
              "}\n",
              "\n",
              "// https://stackoverflow.com/a/951057\n",
              "function sleep(ms) {\n",
              "  return new Promise(resolve => setTimeout(resolve, ms));\n",
              "}\n",
              "\n",
              "var data = new Promise(resolve=>{\n",
              "//recordButton.addEventListener(\"click\", toggleRecording);\n",
              "recordButton.onclick = ()=>{\n",
              "toggleRecording()\n",
              "\n",
              "sleep(2000).then(() => {\n",
              "  // wait 2000ms for the data to be available...\n",
              "  // ideally this should use something like await...\n",
              "  //console.log(\"Inside data:\" + base64data)\n",
              "  resolve(base64data.toString())\n",
              "\n",
              "});\n",
              "\n",
              "}\n",
              "});\n",
              "      \n",
              "</script>\n"
            ]
          },
          "metadata": {}
        },
        {
          "output_type": "stream",
          "name": "stdout",
          "text": [
            "Transcription:\n",
            " Hello, my name is Rikha Deshit.\n"
          ]
        }
      ]
    },
    {
      "cell_type": "code",
      "source": [
        "# Install the required libraries\n",
        "!pip install gtts\n",
        "!pip install pydub\n"
      ],
      "metadata": {
        "id": "tiBqAAmMYIdR",
        "outputId": "6bfa4c67-d95b-4634-d146-c197eb975752",
        "colab": {
          "base_uri": "https://localhost:8080/"
        }
      },
      "execution_count": 1,
      "outputs": [
        {
          "output_type": "stream",
          "name": "stdout",
          "text": [
            "Collecting gtts\n",
            "  Downloading gTTS-2.5.4-py3-none-any.whl.metadata (4.1 kB)\n",
            "Requirement already satisfied: requests<3,>=2.27 in /usr/local/lib/python3.10/dist-packages (from gtts) (2.32.3)\n",
            "Requirement already satisfied: click<8.2,>=7.1 in /usr/local/lib/python3.10/dist-packages (from gtts) (8.1.7)\n",
            "Requirement already satisfied: charset-normalizer<4,>=2 in /usr/local/lib/python3.10/dist-packages (from requests<3,>=2.27->gtts) (3.4.0)\n",
            "Requirement already satisfied: idna<4,>=2.5 in /usr/local/lib/python3.10/dist-packages (from requests<3,>=2.27->gtts) (3.10)\n",
            "Requirement already satisfied: urllib3<3,>=1.21.1 in /usr/local/lib/python3.10/dist-packages (from requests<3,>=2.27->gtts) (2.2.3)\n",
            "Requirement already satisfied: certifi>=2017.4.17 in /usr/local/lib/python3.10/dist-packages (from requests<3,>=2.27->gtts) (2024.12.14)\n",
            "Downloading gTTS-2.5.4-py3-none-any.whl (29 kB)\n",
            "Installing collected packages: gtts\n",
            "Successfully installed gtts-2.5.4\n",
            "Collecting pydub\n",
            "  Downloading pydub-0.25.1-py2.py3-none-any.whl.metadata (1.4 kB)\n",
            "Downloading pydub-0.25.1-py2.py3-none-any.whl (32 kB)\n",
            "Installing collected packages: pydub\n",
            "Successfully installed pydub-0.25.1\n"
          ]
        }
      ]
    },
    {
      "cell_type": "code",
      "source": [
        "from gtts import gTTS\n",
        "from IPython.display import Audio\n",
        "from pydub import AudioSegment\n",
        "from pydub.playback import play\n",
        "from threading import Thread\n",
        "from time import sleep"
      ],
      "metadata": {
        "id": "9kvt6D8jFJlq"
      },
      "execution_count": 38,
      "outputs": []
    },
    {
      "cell_type": "code",
      "source": [
        "def text_to_speech(text):\n",
        "    # Convert text to speech\n",
        "    tts = gTTS(text=text, lang='en', tld='com', slow=False)\n",
        "    tts.save(\"output.wav\")\n",
        "    Audio(\"output.wav\", autoplay=True)\n",
        "    # # Load the audio file\n",
        "    # Audio(\"output.wav\", autoplay=True)\n",
        "    # Play the audio\n",
        "    #play(audio)\n"
      ],
      "metadata": {
        "id": "dk2q_L0kFPB0"
      },
      "execution_count": 18,
      "outputs": []
    },
    {
      "cell_type": "code",
      "source": [
        "from gtts import gTTS\n",
        "from IPython.display import display, HTML\n",
        "\n",
        "def text_to_speech(text):\n",
        "    # Convert text to speech\n",
        "    tts = gTTS(text=text, lang='en', tld='com', slow=False)\n",
        "    tts.save(\"output.wav\")\n",
        "\n",
        "    # Use HTML and JavaScript to play the audio without displaying the player\n",
        "    display(HTML('''\n",
        "        <audio id=\"audio\" src=\"output.wav\" autoplay></audio>\n",
        "        <script>\n",
        "            var audio = document.getElementById(\"audio\");\n",
        "            audio.play();\n",
        "        </script>\n",
        "    '''))\n",
        "\n",
        "# Example usage\n",
        "text_to_speech(\"Hello, this is a test of the text to speech function.\")"
      ],
      "metadata": {
        "id": "h0Pai7bzIXru",
        "outputId": "d811b5a9-ac2d-4ac4-c9bb-202e3e95ce5f",
        "colab": {
          "resources": {
            "http://localhost:8080/output.wav": {
              "data": "",
              "ok": false,
              "headers": [
                [
                  "content-length",
                  "0"
                ]
              ],
              "status": 404,
              "status_text": ""
            }
          },
          "base_uri": "https://localhost:8080/",
          "height": 17
        }
      },
      "execution_count": 27,
      "outputs": [
        {
          "output_type": "display_data",
          "data": {
            "text/plain": [
              "<IPython.core.display.HTML object>"
            ],
            "text/html": [
              "\n",
              "        <audio id=\"audio\" src=\"output.wav\" autoplay></audio>\n",
              "        <script>\n",
              "            var audio = document.getElementById(\"audio\");\n",
              "            audio.play();\n",
              "        </script>\n",
              "    "
            ]
          },
          "metadata": {}
        }
      ]
    },
    {
      "cell_type": "code",
      "source": [
        "class InvisibleAudio(Audio):\n",
        "\n",
        "    def _repr_html_(self):\n",
        "        audio = super()._repr_html_()\n",
        "        audio = audio.replace(\n",
        "            '<audio',\n",
        "            (\n",
        "                '<audio onended=\"'\n",
        "                + hide_closest(css_class=OUTPUT_AREA_CLASS)\n",
        "                + '\" onloadstart=\"' + hide_closest(css_class=OUTPUT_AREA_CLASS) + '\"'\n",
        "            )\n",
        "        )\n",
        "        return f'<div style=\"display:none\">{audio}</div>'"
      ],
      "metadata": {
        "id": "8gmcWgjHJ1q_"
      },
      "execution_count": 34,
      "outputs": []
    },
    {
      "cell_type": "code",
      "source": [
        "OUTPUT_AREA_CLASS = 'jp-OutputArea-child'\n",
        "OUT_CLASS = 'jp-transient-html'\n",
        "\n",
        "\n",
        "def try_to_hide_parent(css_class, level):\n",
        "    \"\"\"deprecated\"\"\"\n",
        "    return (\n",
        "        f'var parent = this{\".parentNode\" * level};'\n",
        "        f'if(parent.className == \\'{css_class}\\') parent.style.display = \\'none\\';'\n",
        "    )\n",
        "\n",
        "\n",
        "def hide_closest(css_class):\n",
        "    return (\n",
        "        f\"var widget_our = this.closest('.{OUT_CLASS}');\"\n",
        "        f\"var that = widget_our ? widget_our : this;\"\n",
        "        f\"that.closest('.{css_class}').style.display = 'none';\"\n",
        "    )\n",
        "\n",
        "\n",
        "def delete_closest(css_class):\n",
        "    return (\n",
        "        f\"var widget_our = this.closest('.{OUT_CLASS}');\"\n",
        "        f\"var that = widget_our ? widget_our : this;\"\n",
        "        f\"var el = that.closest('.{css_class}'); el.parentNode.removeChild(el);\"\n",
        "    )\n",
        "\n",
        "\n",
        "def delete_element(levels_up=1):\n",
        "    return (\n",
        "        'this'\n",
        "        + '.parentNode' * levels_up\n",
        "        + '.removeChild('\n",
        "          + 'this'\n",
        "          + '.parentNode' * (levels_up - 1)\n",
        "        + ')'\n",
        "    )\n",
        "\n",
        "\n",
        "class InvisibleAudio(Audio):\n",
        "\n",
        "    def _repr_html_(self):\n",
        "        audio = super()._repr_html_()\n",
        "        audio = audio.replace(\n",
        "            '<audio',\n",
        "            (\n",
        "                '<audio onended=\"'\n",
        "                + hide_closest(css_class=OUTPUT_AREA_CLASS)\n",
        "                + '\" onloadstart=\"' + hide_closest(css_class=OUTPUT_AREA_CLASS) + '\"'\n",
        "            )\n",
        "        )\n",
        "        return f'<div style=\"display:none\">{audio}</div>'\n",
        "\n",
        "\n",
        "def javascript_in_jupyter(code):\n",
        "    return f'<img onerror=\"{code}\" src=\"x\" style=\"display:none\"></div>'\n",
        "\n",
        "\n",
        "def delayed_close(out, element, delay):\n",
        "    sleep(delay)\n",
        "    element.close()\n",
        "    out.clear_output()\n",
        "    out.close()\n",
        "\n",
        "\n",
        "def transient_html(code: str, lifetime: float = 3):\n",
        "    \"\"\"Attempts to display and then hide given HTML code.\n",
        "\n",
        "    If the hiding is not possible (no ipywidgets) fall-backs to persistent display.\n",
        "\n",
        "    Arguments:\n",
        "        code: HTML code as a string\n",
        "        lifetime: time\n",
        "    \"\"\"\n",
        "    try:\n",
        "        from ipywidgets import HTML\n",
        "        from ipywidgets.widgets import Output\n",
        "        element = HTML(code)\n",
        "        out = Output()\n",
        "        out.add_class(OUT_CLASS)\n",
        "\n",
        "        thread = Thread(target=delayed_close, args=(out, element, lifetime))\n",
        "\n",
        "        with out:\n",
        "            display(element)\n",
        "\n",
        "        display(out)\n",
        "\n",
        "        thread.start()\n",
        "\n",
        "    except ImportError:\n",
        "        from IPython.display import HTML\n",
        "        element = HTML(code)\n",
        "        display(element)\n",
        "\n",
        "\n",
        "def scroll_to_current_cell(\n",
        "    scroll_behaviour='smooth',\n",
        "    preserve=False,\n",
        "    smart=True,\n",
        "    scroll_to='center',\n",
        "    cell_class='jp-Cell'\n",
        "):\n",
        "    behaviour = f\"behavior: '{scroll_behaviour}', block: '{scroll_to}'\"\n",
        "    code = (\n",
        "        # scroll to the output\n",
        "        '\\n'.join([\n",
        "            f\"let cell = this.closest('.{cell_class}');\",\n",
        "            'let rect = cell.getBoundingClientRect();',\n",
        "            (\n",
        "                (\n",
        "                    'let is_visible = rect.top >= 0 &&'\n",
        "                    ' rect.bottom <= (window.innerHeight || document.documentElement.clientHeight);'\n",
        "                )\n",
        "                if smart else\n",
        "                'let is_visible = false;'\n",
        "            ),\n",
        "            'if (!is_visible) {',\n",
        "            '    cell.scrollIntoView({' + behaviour + '});',\n",
        "            '}'\n",
        "        ])\n",
        "        # hide the output generated as an anchor\n",
        "        + hide_closest(css_class=OUTPUT_AREA_CLASS)\n",
        "    )\n",
        "    code = javascript_in_jupyter(code)\n",
        "\n",
        "    if not preserve:\n",
        "        transient_html(code)\n",
        "\n",
        "    if preserve:\n",
        "        from IPython.display import HTML\n",
        "        element = HTML(code)\n",
        "        display(element)\n"
      ],
      "metadata": {
        "id": "KCJR4WEmLs_C"
      },
      "execution_count": 35,
      "outputs": []
    },
    {
      "cell_type": "code",
      "source": [
        "def play_sound(filename):\n",
        "    audio = InvisibleAudio(filename=filename, autoplay=True)\n",
        "    transient_html(audio._repr_html_())\n"
      ],
      "metadata": {
        "id": "Eb1-7HXOL2ao"
      },
      "execution_count": 39,
      "outputs": []
    },
    {
      "cell_type": "code",
      "source": [
        "play_sound(\"output.wav\")"
      ],
      "metadata": {
        "id": "2sJTykqpR1Vu",
        "outputId": "2d4f6f2f-ffdb-4a39-d5ae-e6a3bc0d2611",
        "colab": {
          "base_uri": "https://localhost:8080/",
          "height": 21,
          "referenced_widgets": [
            "0ff6063cde6a445c9419f6496e1ddc03",
            "92af215a8c6b4e218652895316b0347b",
            "7efa7a81de56467a800083dee1b41dbe",
            "b2db3e6a3a534b02bac974e118ccde22",
            "9eee826d0b3f463c82d171821b1621d0"
          ]
        }
      },
      "execution_count": 40,
      "outputs": [
        {
          "output_type": "display_data",
          "data": {
            "text/plain": [
              "Output(_dom_classes=('jp-transient-html',))"
            ],
            "application/vnd.jupyter.widget-view+json": {
              "version_major": 2,
              "version_minor": 0,
              "model_id": "0ff6063cde6a445c9419f6496e1ddc03"
            }
          },
          "metadata": {}
        }
      ]
    },
    {
      "cell_type": "code",
      "source": [
        "from gtts import gTTS\n",
        "from IPython.display import Audio, display\n",
        "\n",
        "def text_to_speech(text):\n",
        "    # Convert text to speech\n",
        "    tts = gTTS(text=text, lang='en', tld='com', slow=False)\n",
        "    tts.save(\"output.wav\")\n",
        "    play_sound(\"output.wav\")\n",
        "\n",
        "# Example usage\n",
        "text_to_speech(\"Hello, Thanks for reaching out\")"
      ],
      "metadata": {
        "id": "0mVMGMUxSVkA",
        "outputId": "6c68b431-4726-484c-8620-4244b1221f03",
        "colab": {
          "base_uri": "https://localhost:8080/",
          "height": 21,
          "referenced_widgets": [
            "cbb1db2d0b1f46c8a81600820bd9e243",
            "17521eb0d32c41b38f6c6c49f09a52e2",
            "a6a1dd6854a74c9e9530ac2addbde8cc",
            "7016d96b1e684067b4578937b8b5a12d",
            "bcbc05d2085c4de198adac18b9756271"
          ]
        }
      },
      "execution_count": 41,
      "outputs": [
        {
          "output_type": "display_data",
          "data": {
            "text/plain": [
              "Output(_dom_classes=('jp-transient-html',))"
            ],
            "application/vnd.jupyter.widget-view+json": {
              "version_major": 2,
              "version_minor": 0,
              "model_id": "cbb1db2d0b1f46c8a81600820bd9e243"
            }
          },
          "metadata": {}
        }
      ]
    },
    {
      "cell_type": "code",
      "source": [
        "!pip install langchain-google-genai # Installs the necessary package for using Google Gemini with LangChain."
      ],
      "metadata": {
        "id": "t103EBOLaEkM",
        "outputId": "42c1dbe5-72f0-4dc3-d9ad-f82fd3857777",
        "colab": {
          "base_uri": "https://localhost:8080/"
        }
      },
      "execution_count": 43,
      "outputs": [
        {
          "output_type": "stream",
          "name": "stdout",
          "text": [
            "Collecting langchain-google-genai\n",
            "  Downloading langchain_google_genai-2.0.8-py3-none-any.whl.metadata (3.6 kB)\n",
            "Collecting filetype<2.0.0,>=1.2.0 (from langchain-google-genai)\n",
            "  Downloading filetype-1.2.0-py2.py3-none-any.whl.metadata (6.5 kB)\n",
            "Requirement already satisfied: google-generativeai<0.9.0,>=0.8.0 in /usr/local/lib/python3.10/dist-packages (from langchain-google-genai) (0.8.3)\n",
            "Collecting langchain-core<0.4.0,>=0.3.27 (from langchain-google-genai)\n",
            "  Downloading langchain_core-0.3.29-py3-none-any.whl.metadata (6.3 kB)\n",
            "Requirement already satisfied: pydantic<3,>=2 in /usr/local/lib/python3.10/dist-packages (from langchain-google-genai) (2.10.3)\n",
            "Requirement already satisfied: google-ai-generativelanguage==0.6.10 in /usr/local/lib/python3.10/dist-packages (from google-generativeai<0.9.0,>=0.8.0->langchain-google-genai) (0.6.10)\n",
            "Requirement already satisfied: google-api-core in /usr/local/lib/python3.10/dist-packages (from google-generativeai<0.9.0,>=0.8.0->langchain-google-genai) (2.19.2)\n",
            "Requirement already satisfied: google-api-python-client in /usr/local/lib/python3.10/dist-packages (from google-generativeai<0.9.0,>=0.8.0->langchain-google-genai) (2.155.0)\n",
            "Requirement already satisfied: google-auth>=2.15.0 in /usr/local/lib/python3.10/dist-packages (from google-generativeai<0.9.0,>=0.8.0->langchain-google-genai) (2.27.0)\n",
            "Requirement already satisfied: protobuf in /usr/local/lib/python3.10/dist-packages (from google-generativeai<0.9.0,>=0.8.0->langchain-google-genai) (4.25.5)\n",
            "Requirement already satisfied: tqdm in /usr/local/lib/python3.10/dist-packages (from google-generativeai<0.9.0,>=0.8.0->langchain-google-genai) (4.67.1)\n",
            "Requirement already satisfied: typing-extensions in /usr/local/lib/python3.10/dist-packages (from google-generativeai<0.9.0,>=0.8.0->langchain-google-genai) (4.12.2)\n",
            "Requirement already satisfied: proto-plus<2.0.0dev,>=1.22.3 in /usr/local/lib/python3.10/dist-packages (from google-ai-generativelanguage==0.6.10->google-generativeai<0.9.0,>=0.8.0->langchain-google-genai) (1.25.0)\n",
            "Requirement already satisfied: PyYAML>=5.3 in /usr/local/lib/python3.10/dist-packages (from langchain-core<0.4.0,>=0.3.27->langchain-google-genai) (6.0.2)\n",
            "Requirement already satisfied: jsonpatch<2.0,>=1.33 in /usr/local/lib/python3.10/dist-packages (from langchain-core<0.4.0,>=0.3.27->langchain-google-genai) (1.33)\n",
            "Requirement already satisfied: langsmith<0.3,>=0.1.125 in /usr/local/lib/python3.10/dist-packages (from langchain-core<0.4.0,>=0.3.27->langchain-google-genai) (0.2.3)\n",
            "Requirement already satisfied: packaging<25,>=23.2 in /usr/local/lib/python3.10/dist-packages (from langchain-core<0.4.0,>=0.3.27->langchain-google-genai) (24.2)\n",
            "Requirement already satisfied: tenacity!=8.4.0,<10.0.0,>=8.1.0 in /usr/local/lib/python3.10/dist-packages (from langchain-core<0.4.0,>=0.3.27->langchain-google-genai) (9.0.0)\n",
            "Requirement already satisfied: annotated-types>=0.6.0 in /usr/local/lib/python3.10/dist-packages (from pydantic<3,>=2->langchain-google-genai) (0.7.0)\n",
            "Requirement already satisfied: pydantic-core==2.27.1 in /usr/local/lib/python3.10/dist-packages (from pydantic<3,>=2->langchain-google-genai) (2.27.1)\n",
            "Requirement already satisfied: googleapis-common-protos<2.0.dev0,>=1.56.2 in /usr/local/lib/python3.10/dist-packages (from google-api-core->google-generativeai<0.9.0,>=0.8.0->langchain-google-genai) (1.66.0)\n",
            "Requirement already satisfied: requests<3.0.0.dev0,>=2.18.0 in /usr/local/lib/python3.10/dist-packages (from google-api-core->google-generativeai<0.9.0,>=0.8.0->langchain-google-genai) (2.32.3)\n",
            "Requirement already satisfied: cachetools<6.0,>=2.0.0 in /usr/local/lib/python3.10/dist-packages (from google-auth>=2.15.0->google-generativeai<0.9.0,>=0.8.0->langchain-google-genai) (5.5.0)\n",
            "Requirement already satisfied: pyasn1-modules>=0.2.1 in /usr/local/lib/python3.10/dist-packages (from google-auth>=2.15.0->google-generativeai<0.9.0,>=0.8.0->langchain-google-genai) (0.4.1)\n",
            "Requirement already satisfied: rsa<5,>=3.1.4 in /usr/local/lib/python3.10/dist-packages (from google-auth>=2.15.0->google-generativeai<0.9.0,>=0.8.0->langchain-google-genai) (4.9)\n",
            "Requirement already satisfied: jsonpointer>=1.9 in /usr/local/lib/python3.10/dist-packages (from jsonpatch<2.0,>=1.33->langchain-core<0.4.0,>=0.3.27->langchain-google-genai) (3.0.0)\n",
            "Requirement already satisfied: httpx<1,>=0.23.0 in /usr/local/lib/python3.10/dist-packages (from langsmith<0.3,>=0.1.125->langchain-core<0.4.0,>=0.3.27->langchain-google-genai) (0.28.1)\n",
            "Requirement already satisfied: orjson<4.0.0,>=3.9.14 in /usr/local/lib/python3.10/dist-packages (from langsmith<0.3,>=0.1.125->langchain-core<0.4.0,>=0.3.27->langchain-google-genai) (3.10.12)\n",
            "Requirement already satisfied: requests-toolbelt<2.0.0,>=1.0.0 in /usr/local/lib/python3.10/dist-packages (from langsmith<0.3,>=0.1.125->langchain-core<0.4.0,>=0.3.27->langchain-google-genai) (1.0.0)\n",
            "Requirement already satisfied: httplib2<1.dev0,>=0.19.0 in /usr/local/lib/python3.10/dist-packages (from google-api-python-client->google-generativeai<0.9.0,>=0.8.0->langchain-google-genai) (0.22.0)\n",
            "Requirement already satisfied: google-auth-httplib2<1.0.0,>=0.2.0 in /usr/local/lib/python3.10/dist-packages (from google-api-python-client->google-generativeai<0.9.0,>=0.8.0->langchain-google-genai) (0.2.0)\n",
            "Requirement already satisfied: uritemplate<5,>=3.0.1 in /usr/local/lib/python3.10/dist-packages (from google-api-python-client->google-generativeai<0.9.0,>=0.8.0->langchain-google-genai) (4.1.1)\n",
            "Requirement already satisfied: grpcio<2.0dev,>=1.33.2 in /usr/local/lib/python3.10/dist-packages (from google-api-core[grpc]!=2.0.*,!=2.1.*,!=2.10.*,!=2.2.*,!=2.3.*,!=2.4.*,!=2.5.*,!=2.6.*,!=2.7.*,!=2.8.*,!=2.9.*,<3.0.0dev,>=1.34.1->google-ai-generativelanguage==0.6.10->google-generativeai<0.9.0,>=0.8.0->langchain-google-genai) (1.68.1)\n",
            "Requirement already satisfied: grpcio-status<2.0.dev0,>=1.33.2 in /usr/local/lib/python3.10/dist-packages (from google-api-core[grpc]!=2.0.*,!=2.1.*,!=2.10.*,!=2.2.*,!=2.3.*,!=2.4.*,!=2.5.*,!=2.6.*,!=2.7.*,!=2.8.*,!=2.9.*,<3.0.0dev,>=1.34.1->google-ai-generativelanguage==0.6.10->google-generativeai<0.9.0,>=0.8.0->langchain-google-genai) (1.62.3)\n",
            "Requirement already satisfied: pyparsing!=3.0.0,!=3.0.1,!=3.0.2,!=3.0.3,<4,>=2.4.2 in /usr/local/lib/python3.10/dist-packages (from httplib2<1.dev0,>=0.19.0->google-api-python-client->google-generativeai<0.9.0,>=0.8.0->langchain-google-genai) (3.2.0)\n",
            "Requirement already satisfied: anyio in /usr/local/lib/python3.10/dist-packages (from httpx<1,>=0.23.0->langsmith<0.3,>=0.1.125->langchain-core<0.4.0,>=0.3.27->langchain-google-genai) (3.7.1)\n",
            "Requirement already satisfied: certifi in /usr/local/lib/python3.10/dist-packages (from httpx<1,>=0.23.0->langsmith<0.3,>=0.1.125->langchain-core<0.4.0,>=0.3.27->langchain-google-genai) (2024.12.14)\n",
            "Requirement already satisfied: httpcore==1.* in /usr/local/lib/python3.10/dist-packages (from httpx<1,>=0.23.0->langsmith<0.3,>=0.1.125->langchain-core<0.4.0,>=0.3.27->langchain-google-genai) (1.0.7)\n",
            "Requirement already satisfied: idna in /usr/local/lib/python3.10/dist-packages (from httpx<1,>=0.23.0->langsmith<0.3,>=0.1.125->langchain-core<0.4.0,>=0.3.27->langchain-google-genai) (3.10)\n",
            "Requirement already satisfied: h11<0.15,>=0.13 in /usr/local/lib/python3.10/dist-packages (from httpcore==1.*->httpx<1,>=0.23.0->langsmith<0.3,>=0.1.125->langchain-core<0.4.0,>=0.3.27->langchain-google-genai) (0.14.0)\n",
            "Requirement already satisfied: pyasn1<0.7.0,>=0.4.6 in /usr/local/lib/python3.10/dist-packages (from pyasn1-modules>=0.2.1->google-auth>=2.15.0->google-generativeai<0.9.0,>=0.8.0->langchain-google-genai) (0.6.1)\n",
            "Requirement already satisfied: charset-normalizer<4,>=2 in /usr/local/lib/python3.10/dist-packages (from requests<3.0.0.dev0,>=2.18.0->google-api-core->google-generativeai<0.9.0,>=0.8.0->langchain-google-genai) (3.4.0)\n",
            "Requirement already satisfied: urllib3<3,>=1.21.1 in /usr/local/lib/python3.10/dist-packages (from requests<3.0.0.dev0,>=2.18.0->google-api-core->google-generativeai<0.9.0,>=0.8.0->langchain-google-genai) (2.2.3)\n",
            "Requirement already satisfied: sniffio>=1.1 in /usr/local/lib/python3.10/dist-packages (from anyio->httpx<1,>=0.23.0->langsmith<0.3,>=0.1.125->langchain-core<0.4.0,>=0.3.27->langchain-google-genai) (1.3.1)\n",
            "Requirement already satisfied: exceptiongroup in /usr/local/lib/python3.10/dist-packages (from anyio->httpx<1,>=0.23.0->langsmith<0.3,>=0.1.125->langchain-core<0.4.0,>=0.3.27->langchain-google-genai) (1.2.2)\n",
            "Downloading langchain_google_genai-2.0.8-py3-none-any.whl (41 kB)\n",
            "\u001b[2K   \u001b[90m━━━━━━━━━━━━━━━━━━━━━━━━━━━━━━━━━━━━━━━━\u001b[0m \u001b[32m41.5/41.5 kB\u001b[0m \u001b[31m3.3 MB/s\u001b[0m eta \u001b[36m0:00:00\u001b[0m\n",
            "\u001b[?25hDownloading filetype-1.2.0-py2.py3-none-any.whl (19 kB)\n",
            "Downloading langchain_core-0.3.29-py3-none-any.whl (411 kB)\n",
            "\u001b[2K   \u001b[90m━━━━━━━━━━━━━━━━━━━━━━━━━━━━━━━━━━━━━━━━\u001b[0m \u001b[32m411.6/411.6 kB\u001b[0m \u001b[31m17.4 MB/s\u001b[0m eta \u001b[36m0:00:00\u001b[0m\n",
            "\u001b[?25hInstalling collected packages: filetype, langchain-core, langchain-google-genai\n",
            "  Attempting uninstall: langchain-core\n",
            "    Found existing installation: langchain-core 0.3.25\n",
            "    Uninstalling langchain-core-0.3.25:\n",
            "      Successfully uninstalled langchain-core-0.3.25\n",
            "Successfully installed filetype-1.2.0 langchain-core-0.3.29 langchain-google-genai-2.0.8\n"
          ]
        }
      ]
    },
    {
      "cell_type": "code",
      "source": [
        "from langchain_google_genai import ChatGoogleGenerativeAI"
      ],
      "metadata": {
        "id": "eB59aq6UYUic"
      },
      "execution_count": 44,
      "outputs": []
    },
    {
      "cell_type": "code",
      "source": [
        "from langchain_core.prompts import ChatPromptTemplate\n",
        "\n",
        "from langchain.prompts import ChatPromptTemplate\n",
        "from langchain_core.output_parsers import StrOutputParser\n",
        "from langchain_core.output_parsers import JsonOutputParser\n",
        "\n",
        "from langchain_core.prompts import ChatPromptTemplate"
      ],
      "metadata": {
        "id": "q1XTylH_Z8oG"
      },
      "execution_count": 45,
      "outputs": []
    },
    {
      "cell_type": "code",
      "source": [
        "import getpass\n",
        "import os\n",
        "\n",
        "if \"GOOGLE_API_KEY\" not in os.environ:\n",
        "    os.environ[\"GOOGLE_API_KEY\"] = getpass.getpass(\"Enter your Google AI API key: \")"
      ],
      "metadata": {
        "id": "g6IYWcEucZJY",
        "outputId": "5cb2988f-92c3-4cbe-905c-32383a3aee74",
        "colab": {
          "base_uri": "https://localhost:8080/"
        }
      },
      "execution_count": 49,
      "outputs": [
        {
          "name": "stdout",
          "output_type": "stream",
          "text": [
            "Enter your Google AI API key: ··········\n"
          ]
        }
      ]
    },
    {
      "cell_type": "code",
      "source": [
        "def get_llm_output(prompt, text):\n",
        "    parser = StrOutputParser()\n",
        "    llm = ChatGoogleGenerativeAI(model=\"gemini-1.5-pro\", temperature=0)\n",
        "    llm_chain = prompt | llm | parser\n",
        "    out = llm_chain.invoke({\"input\": text})\n",
        "    return out"
      ],
      "metadata": {
        "id": "bddZnZLlbKiQ"
      },
      "execution_count": 53,
      "outputs": []
    },
    {
      "cell_type": "code",
      "source": [
        "extract_name_prompt_msg = f''' As an AI assitant, you are given a sentence, extract the name of the speaker. Strictly return me the name of speaker.\n",
        "                        '''\n",
        "extract_name_prompt = ChatPromptTemplate.from_messages(\n",
        "    [\n",
        "        (\"system\", extract_name_prompt_msg),\n",
        "        (\"human\", \"{input}\"),\n",
        "    ]\n",
        ")\n",
        "extract_dob_msg = f''' As an AI assitant, you are given a sentence, extract the date of birth of the speaker. Strictly return me the date of birth of speaker in mm/dd/yyyy format.\n",
        "                        '''\n",
        "extract_dob_prompt = ChatPromptTemplate.from_messages(\n",
        "    [\n",
        "        (\"system\", extract_dob_msg),\n",
        "        (\"human\", \"{input}\"),\n",
        "    ]\n",
        ")\n",
        "extract_id_msg = f''' As an AI assitant, you are given a sentence, extract the ID of the speaker. Strictly return me the ID of speaker.\n",
        "                        '''\n",
        "extract_id_prompt = ChatPromptTemplate.from_messages(\n",
        "    [\n",
        "        (\"system\", extract_id_msg),\n",
        "        (\"human\", \"{input}\"),\n",
        "    ]\n",
        ")\n",
        "\n",
        "intent_classifier_msg = f''' You are given a text from a user. As an AI assistant, Help me in identifying the intent of the text. Strictly classify the\n",
        "                            text into 4 categories. 1) reschedule 2) schedule 3) cancellation 4) other . Strictly classify the text frobased on these 4 categories and strictly return me 1 of these categories based on the text.\n",
        "                        '''\n",
        "\n",
        "intent_prompt = ChatPromptTemplate.from_messages(\n",
        "    [\n",
        "        (\"system\", intent_classifier_msg),\n",
        "        (\"human\", \"{input}\"),\n",
        "    ]\n",
        ")\n",
        "\n",
        "member_availability_msg = f''' You are given a text from a user. As an AI assistant, Help me in identifying whether member is available on\n",
        "                        '''\n",
        "\n",
        "intent_prompt = ChatPromptTemplate.from_messages(\n",
        "    [\n",
        "        (\"system\", intent_classifier_msg),\n",
        "        (\"human\", \"{input}\"),\n",
        "    ]\n",
        ")\n",
        "def get_intent(text):\n",
        "    intent = get_llm_output(intent_prompt, text)\n",
        "    print(f\"Extracted intent: {intent}\")\n",
        "    return intent\n",
        "\n",
        "def get_name(text):\n",
        "    name = get_llm_output(extract_name_prompt, text)\n",
        "    # print(f\"Extracted name: {name}\")\n",
        "    return name\n",
        "\n",
        "def get_dob(text):\n",
        "    dob = get_llm_output(extract_dob_prompt, text)\n",
        "    # print(f\"Extracted DOB: {dob}\")\n",
        "    return dob\n",
        "\n",
        "def get_id(text):\n",
        "    member_id = get_llm_output(extract_id_prompt, text)\n",
        "    # print(f\"Extracted ID: {member_id}\")\n",
        "    return member_id"
      ],
      "metadata": {
        "id": "H3lj9eLWbxBs"
      },
      "execution_count": 56,
      "outputs": []
    },
    {
      "cell_type": "code",
      "source": [
        "get_name('my name is vikas dixit')"
      ],
      "metadata": {
        "id": "YXkLr62dcIyz",
        "outputId": "580ec0a6-ca78-4592-974e-14f90e375abc",
        "colab": {
          "base_uri": "https://localhost:8080/",
          "height": 35
        }
      },
      "execution_count": 57,
      "outputs": [
        {
          "output_type": "execute_result",
          "data": {
            "text/plain": [
              "'vikas dixit'"
            ],
            "application/vnd.google.colaboratory.intrinsic+json": {
              "type": "string"
            }
          },
          "metadata": {},
          "execution_count": 57
        }
      ]
    },
    {
      "cell_type": "code",
      "source": [],
      "metadata": {
        "id": "Mq3ClGYWcLm2"
      },
      "execution_count": null,
      "outputs": []
    }
  ],
  "metadata": {
    "colab": {
      "name": "Welcome To Colab",
      "toc_visible": true,
      "provenance": [],
      "gpuType": "T4",
      "include_colab_link": true
    },
    "kernelspec": {
      "display_name": "Python 3",
      "name": "python3"
    },
    "accelerator": "GPU",
    "widgets": {
      "application/vnd.jupyter.widget-state+json": {
        "0ff6063cde6a445c9419f6496e1ddc03": {
          "model_module": "@jupyter-widgets/output",
          "model_name": "OutputModel",
          "model_module_version": "1.0.0",
          "state": {
            "_dom_classes": [
              "jp-transient-html"
            ],
            "_model_module": "@jupyter-widgets/output",
            "_model_module_version": "1.0.0",
            "_model_name": "OutputModel",
            "_view_count": null,
            "_view_module": "@jupyter-widgets/output",
            "_view_module_version": "1.0.0",
            "_view_name": "OutputView",
            "layout": "IPY_MODEL_7efa7a81de56467a800083dee1b41dbe",
            "msg_id": "",
            "outputs": []
          }
        },
        "92af215a8c6b4e218652895316b0347b": {
          "model_module": "@jupyter-widgets/controls",
          "model_name": "HTMLModel",
          "model_module_version": "1.5.0",
          "state": {
            "_dom_classes": [],
            "_model_module": "@jupyter-widgets/controls",
            "_model_module_version": "1.5.0",
            "_model_name": "HTMLModel",
            "_view_count": null,
            "_view_module": "@jupyter-widgets/controls",
            "_view_module_version": "1.5.0",
            "_view_name": "HTMLView",
            "description": "",
            "description_tooltip": null,
            "layout": "IPY_MODEL_b2db3e6a3a534b02bac974e118ccde22",
            "placeholder": "​",
            "style": "IPY_MODEL_9eee826d0b3f463c82d171821b1621d0",
            "value": "<div style=\"display:none\">\n                <audio onended=\"var widget_our = this.closest('.jp-transient-html');var that = widget_our ? widget_our : this;that.closest('.jp-OutputArea-child').style.display = 'none';\" onloadstart=\"var widget_our = this.closest('.jp-transient-html');var that = widget_our ? widget_our : this;that.closest('.jp-OutputArea-child').style.display = 'none';\"  controls=\"controls\" autoplay=\"autoplay\">\n                    <source src=\"data:audio/x-wav;base64,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\" type=\"audio/x-wav\" />\n                    Your browser does not support the audio element.\n                </audio>\n              </div>"
          }
        },
        "7efa7a81de56467a800083dee1b41dbe": {
          "model_module": "@jupyter-widgets/base",
          "model_name": "LayoutModel",
          "model_module_version": "1.2.0",
          "state": {
            "_model_module": "@jupyter-widgets/base",
            "_model_module_version": "1.2.0",
            "_model_name": "LayoutModel",
            "_view_count": null,
            "_view_module": "@jupyter-widgets/base",
            "_view_module_version": "1.2.0",
            "_view_name": "LayoutView",
            "align_content": null,
            "align_items": null,
            "align_self": null,
            "border": null,
            "bottom": null,
            "display": null,
            "flex": null,
            "flex_flow": null,
            "grid_area": null,
            "grid_auto_columns": null,
            "grid_auto_flow": null,
            "grid_auto_rows": null,
            "grid_column": null,
            "grid_gap": null,
            "grid_row": null,
            "grid_template_areas": null,
            "grid_template_columns": null,
            "grid_template_rows": null,
            "height": null,
            "justify_content": null,
            "justify_items": null,
            "left": null,
            "margin": null,
            "max_height": null,
            "max_width": null,
            "min_height": null,
            "min_width": null,
            "object_fit": null,
            "object_position": null,
            "order": null,
            "overflow": null,
            "overflow_x": null,
            "overflow_y": null,
            "padding": null,
            "right": null,
            "top": null,
            "visibility": null,
            "width": null
          }
        },
        "b2db3e6a3a534b02bac974e118ccde22": {
          "model_module": "@jupyter-widgets/base",
          "model_name": "LayoutModel",
          "model_module_version": "1.2.0",
          "state": {
            "_model_module": "@jupyter-widgets/base",
            "_model_module_version": "1.2.0",
            "_model_name": "LayoutModel",
            "_view_count": null,
            "_view_module": "@jupyter-widgets/base",
            "_view_module_version": "1.2.0",
            "_view_name": "LayoutView",
            "align_content": null,
            "align_items": null,
            "align_self": null,
            "border": null,
            "bottom": null,
            "display": null,
            "flex": null,
            "flex_flow": null,
            "grid_area": null,
            "grid_auto_columns": null,
            "grid_auto_flow": null,
            "grid_auto_rows": null,
            "grid_column": null,
            "grid_gap": null,
            "grid_row": null,
            "grid_template_areas": null,
            "grid_template_columns": null,
            "grid_template_rows": null,
            "height": null,
            "justify_content": null,
            "justify_items": null,
            "left": null,
            "margin": null,
            "max_height": null,
            "max_width": null,
            "min_height": null,
            "min_width": null,
            "object_fit": null,
            "object_position": null,
            "order": null,
            "overflow": null,
            "overflow_x": null,
            "overflow_y": null,
            "padding": null,
            "right": null,
            "top": null,
            "visibility": null,
            "width": null
          }
        },
        "9eee826d0b3f463c82d171821b1621d0": {
          "model_module": "@jupyter-widgets/controls",
          "model_name": "DescriptionStyleModel",
          "model_module_version": "1.5.0",
          "state": {
            "_model_module": "@jupyter-widgets/controls",
            "_model_module_version": "1.5.0",
            "_model_name": "DescriptionStyleModel",
            "_view_count": null,
            "_view_module": "@jupyter-widgets/base",
            "_view_module_version": "1.2.0",
            "_view_name": "StyleView",
            "description_width": ""
          }
        },
        "cbb1db2d0b1f46c8a81600820bd9e243": {
          "model_module": "@jupyter-widgets/output",
          "model_name": "OutputModel",
          "model_module_version": "1.0.0",
          "state": {
            "_dom_classes": [
              "jp-transient-html"
            ],
            "_model_module": "@jupyter-widgets/output",
            "_model_module_version": "1.0.0",
            "_model_name": "OutputModel",
            "_view_count": null,
            "_view_module": "@jupyter-widgets/output",
            "_view_module_version": "1.0.0",
            "_view_name": "OutputView",
            "layout": "IPY_MODEL_a6a1dd6854a74c9e9530ac2addbde8cc",
            "msg_id": "",
            "outputs": []
          }
        },
        "17521eb0d32c41b38f6c6c49f09a52e2": {
          "model_module": "@jupyter-widgets/controls",
          "model_name": "HTMLModel",
          "model_module_version": "1.5.0",
          "state": {
            "_dom_classes": [],
            "_model_module": "@jupyter-widgets/controls",
            "_model_module_version": "1.5.0",
            "_model_name": "HTMLModel",
            "_view_count": null,
            "_view_module": "@jupyter-widgets/controls",
            "_view_module_version": "1.5.0",
            "_view_name": "HTMLView",
            "description": "",
            "description_tooltip": null,
            "layout": "IPY_MODEL_7016d96b1e684067b4578937b8b5a12d",
            "placeholder": "​",
            "style": "IPY_MODEL_bcbc05d2085c4de198adac18b9756271",
            "value": "<div style=\"display:none\">\n                <audio onended=\"var widget_our = this.closest('.jp-transient-html');var that = widget_our ? widget_our : this;that.closest('.jp-OutputArea-child').style.display = 'none';\" onloadstart=\"var widget_our = this.closest('.jp-transient-html');var that = widget_our ? widget_our : this;that.closest('.jp-OutputArea-child').style.display = 'none';\"  controls=\"controls\" autoplay=\"autoplay\">\n                    <source src=\"data:audio/x-wav;base64,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\" type=\"audio/x-wav\" />\n                    Your browser does not support the audio element.\n                </audio>\n              </div>"
          }
        },
        "a6a1dd6854a74c9e9530ac2addbde8cc": {
          "model_module": "@jupyter-widgets/base",
          "model_name": "LayoutModel",
          "model_module_version": "1.2.0",
          "state": {
            "_model_module": "@jupyter-widgets/base",
            "_model_module_version": "1.2.0",
            "_model_name": "LayoutModel",
            "_view_count": null,
            "_view_module": "@jupyter-widgets/base",
            "_view_module_version": "1.2.0",
            "_view_name": "LayoutView",
            "align_content": null,
            "align_items": null,
            "align_self": null,
            "border": null,
            "bottom": null,
            "display": null,
            "flex": null,
            "flex_flow": null,
            "grid_area": null,
            "grid_auto_columns": null,
            "grid_auto_flow": null,
            "grid_auto_rows": null,
            "grid_column": null,
            "grid_gap": null,
            "grid_row": null,
            "grid_template_areas": null,
            "grid_template_columns": null,
            "grid_template_rows": null,
            "height": null,
            "justify_content": null,
            "justify_items": null,
            "left": null,
            "margin": null,
            "max_height": null,
            "max_width": null,
            "min_height": null,
            "min_width": null,
            "object_fit": null,
            "object_position": null,
            "order": null,
            "overflow": null,
            "overflow_x": null,
            "overflow_y": null,
            "padding": null,
            "right": null,
            "top": null,
            "visibility": null,
            "width": null
          }
        },
        "7016d96b1e684067b4578937b8b5a12d": {
          "model_module": "@jupyter-widgets/base",
          "model_name": "LayoutModel",
          "model_module_version": "1.2.0",
          "state": {
            "_model_module": "@jupyter-widgets/base",
            "_model_module_version": "1.2.0",
            "_model_name": "LayoutModel",
            "_view_count": null,
            "_view_module": "@jupyter-widgets/base",
            "_view_module_version": "1.2.0",
            "_view_name": "LayoutView",
            "align_content": null,
            "align_items": null,
            "align_self": null,
            "border": null,
            "bottom": null,
            "display": null,
            "flex": null,
            "flex_flow": null,
            "grid_area": null,
            "grid_auto_columns": null,
            "grid_auto_flow": null,
            "grid_auto_rows": null,
            "grid_column": null,
            "grid_gap": null,
            "grid_row": null,
            "grid_template_areas": null,
            "grid_template_columns": null,
            "grid_template_rows": null,
            "height": null,
            "justify_content": null,
            "justify_items": null,
            "left": null,
            "margin": null,
            "max_height": null,
            "max_width": null,
            "min_height": null,
            "min_width": null,
            "object_fit": null,
            "object_position": null,
            "order": null,
            "overflow": null,
            "overflow_x": null,
            "overflow_y": null,
            "padding": null,
            "right": null,
            "top": null,
            "visibility": null,
            "width": null
          }
        },
        "bcbc05d2085c4de198adac18b9756271": {
          "model_module": "@jupyter-widgets/controls",
          "model_name": "DescriptionStyleModel",
          "model_module_version": "1.5.0",
          "state": {
            "_model_module": "@jupyter-widgets/controls",
            "_model_module_version": "1.5.0",
            "_model_name": "DescriptionStyleModel",
            "_view_count": null,
            "_view_module": "@jupyter-widgets/base",
            "_view_module_version": "1.2.0",
            "_view_name": "StyleView",
            "description_width": ""
          }
        }
      }
    }
  },
  "nbformat": 4,
  "nbformat_minor": 0
}